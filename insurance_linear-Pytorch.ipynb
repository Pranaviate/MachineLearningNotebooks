{
  "nbformat": 4,
  "nbformat_minor": 0,
  "metadata": {
    "kernelspec": {
      "display_name": "Python 3",
      "language": "python",
      "name": "python3"
    },
    "language_info": {
      "codemirror_mode": {
        "name": "ipython",
        "version": 3
      },
      "file_extension": ".py",
      "mimetype": "text/x-python",
      "name": "python",
      "nbconvert_exporter": "python",
      "pygments_lexer": "ipython3",
      "version": "3.6.4"
    },
    "colab": {
      "name": "Assgn2-insurance-linear.ipynb",
      "provenance": [],
      "collapsed_sections": [
        "51nqWqQEILvk"
      ]
    },
    "widgets": {
      "application/vnd.jupyter.widget-state+json": {
        "a0b61507f44f4fca86f46d974fd6b48c": {
          "model_module": "@jupyter-widgets/controls",
          "model_name": "HBoxModel",
          "state": {
            "_view_name": "HBoxView",
            "_dom_classes": [],
            "_model_name": "HBoxModel",
            "_view_module": "@jupyter-widgets/controls",
            "_model_module_version": "1.5.0",
            "_view_count": null,
            "_view_module_version": "1.5.0",
            "box_style": "",
            "layout": "IPY_MODEL_b66d0f0991e44ea08d167c2b0a527bcf",
            "_model_module": "@jupyter-widgets/controls",
            "children": [
              "IPY_MODEL_1255c5a73f7a4d708f2371b0e3b1f8d8",
              "IPY_MODEL_c9ea057a55be4c869afebeb11107efc8"
            ]
          }
        },
        "b66d0f0991e44ea08d167c2b0a527bcf": {
          "model_module": "@jupyter-widgets/base",
          "model_name": "LayoutModel",
          "state": {
            "_view_name": "LayoutView",
            "grid_template_rows": null,
            "right": null,
            "justify_content": null,
            "_view_module": "@jupyter-widgets/base",
            "overflow": null,
            "_model_module_version": "1.2.0",
            "_view_count": null,
            "flex_flow": null,
            "width": null,
            "min_width": null,
            "border": null,
            "align_items": null,
            "bottom": null,
            "_model_module": "@jupyter-widgets/base",
            "top": null,
            "grid_column": null,
            "overflow_y": null,
            "overflow_x": null,
            "grid_auto_flow": null,
            "grid_area": null,
            "grid_template_columns": null,
            "flex": null,
            "_model_name": "LayoutModel",
            "justify_items": null,
            "grid_row": null,
            "max_height": null,
            "align_content": null,
            "visibility": null,
            "align_self": null,
            "height": null,
            "min_height": null,
            "padding": null,
            "grid_auto_rows": null,
            "grid_gap": null,
            "max_width": null,
            "order": null,
            "_view_module_version": "1.2.0",
            "grid_template_areas": null,
            "object_position": null,
            "object_fit": null,
            "grid_auto_columns": null,
            "margin": null,
            "display": null,
            "left": null
          }
        },
        "1255c5a73f7a4d708f2371b0e3b1f8d8": {
          "model_module": "@jupyter-widgets/controls",
          "model_name": "FloatProgressModel",
          "state": {
            "_view_name": "ProgressView",
            "style": "IPY_MODEL_53634e381ed34790b3d8053dcacf89ba",
            "_dom_classes": [],
            "description": "",
            "_model_name": "FloatProgressModel",
            "bar_style": "info",
            "max": 1,
            "_view_module": "@jupyter-widgets/controls",
            "_model_module_version": "1.5.0",
            "value": 1,
            "_view_count": null,
            "_view_module_version": "1.5.0",
            "orientation": "horizontal",
            "min": 0,
            "description_tooltip": null,
            "_model_module": "@jupyter-widgets/controls",
            "layout": "IPY_MODEL_f1b639336e66428abc4cd3de70a2d60a"
          }
        },
        "c9ea057a55be4c869afebeb11107efc8": {
          "model_module": "@jupyter-widgets/controls",
          "model_name": "HTMLModel",
          "state": {
            "_view_name": "HTMLView",
            "style": "IPY_MODEL_9bd0a5819c574800af6af29abb781f07",
            "_dom_classes": [],
            "description": "",
            "_model_name": "HTMLModel",
            "placeholder": "​",
            "_view_module": "@jupyter-widgets/controls",
            "_model_module_version": "1.5.0",
            "value": " 57344/? [00:19&lt;00:00, 295858.41it/s]",
            "_view_count": null,
            "_view_module_version": "1.5.0",
            "description_tooltip": null,
            "_model_module": "@jupyter-widgets/controls",
            "layout": "IPY_MODEL_f19a3f3d104746dc8498ddb89e86de88"
          }
        },
        "53634e381ed34790b3d8053dcacf89ba": {
          "model_module": "@jupyter-widgets/controls",
          "model_name": "ProgressStyleModel",
          "state": {
            "_view_name": "StyleView",
            "_model_name": "ProgressStyleModel",
            "description_width": "initial",
            "_view_module": "@jupyter-widgets/base",
            "_model_module_version": "1.5.0",
            "_view_count": null,
            "_view_module_version": "1.2.0",
            "bar_color": null,
            "_model_module": "@jupyter-widgets/controls"
          }
        },
        "f1b639336e66428abc4cd3de70a2d60a": {
          "model_module": "@jupyter-widgets/base",
          "model_name": "LayoutModel",
          "state": {
            "_view_name": "LayoutView",
            "grid_template_rows": null,
            "right": null,
            "justify_content": null,
            "_view_module": "@jupyter-widgets/base",
            "overflow": null,
            "_model_module_version": "1.2.0",
            "_view_count": null,
            "flex_flow": null,
            "width": null,
            "min_width": null,
            "border": null,
            "align_items": null,
            "bottom": null,
            "_model_module": "@jupyter-widgets/base",
            "top": null,
            "grid_column": null,
            "overflow_y": null,
            "overflow_x": null,
            "grid_auto_flow": null,
            "grid_area": null,
            "grid_template_columns": null,
            "flex": null,
            "_model_name": "LayoutModel",
            "justify_items": null,
            "grid_row": null,
            "max_height": null,
            "align_content": null,
            "visibility": null,
            "align_self": null,
            "height": null,
            "min_height": null,
            "padding": null,
            "grid_auto_rows": null,
            "grid_gap": null,
            "max_width": null,
            "order": null,
            "_view_module_version": "1.2.0",
            "grid_template_areas": null,
            "object_position": null,
            "object_fit": null,
            "grid_auto_columns": null,
            "margin": null,
            "display": null,
            "left": null
          }
        },
        "9bd0a5819c574800af6af29abb781f07": {
          "model_module": "@jupyter-widgets/controls",
          "model_name": "DescriptionStyleModel",
          "state": {
            "_view_name": "StyleView",
            "_model_name": "DescriptionStyleModel",
            "description_width": "",
            "_view_module": "@jupyter-widgets/base",
            "_model_module_version": "1.5.0",
            "_view_count": null,
            "_view_module_version": "1.2.0",
            "_model_module": "@jupyter-widgets/controls"
          }
        },
        "f19a3f3d104746dc8498ddb89e86de88": {
          "model_module": "@jupyter-widgets/base",
          "model_name": "LayoutModel",
          "state": {
            "_view_name": "LayoutView",
            "grid_template_rows": null,
            "right": null,
            "justify_content": null,
            "_view_module": "@jupyter-widgets/base",
            "overflow": null,
            "_model_module_version": "1.2.0",
            "_view_count": null,
            "flex_flow": null,
            "width": null,
            "min_width": null,
            "border": null,
            "align_items": null,
            "bottom": null,
            "_model_module": "@jupyter-widgets/base",
            "top": null,
            "grid_column": null,
            "overflow_y": null,
            "overflow_x": null,
            "grid_auto_flow": null,
            "grid_area": null,
            "grid_template_columns": null,
            "flex": null,
            "_model_name": "LayoutModel",
            "justify_items": null,
            "grid_row": null,
            "max_height": null,
            "align_content": null,
            "visibility": null,
            "align_self": null,
            "height": null,
            "min_height": null,
            "padding": null,
            "grid_auto_rows": null,
            "grid_gap": null,
            "max_width": null,
            "order": null,
            "_view_module_version": "1.2.0",
            "grid_template_areas": null,
            "object_position": null,
            "object_fit": null,
            "grid_auto_columns": null,
            "margin": null,
            "display": null,
            "left": null
          }
        }
      }
    }
  },
  "cells": [
    {
      "cell_type": "markdown",
      "metadata": {
        "_cell_guid": "b1076dfc-b9ad-4769-8c92-a6c4dae69d19",
        "_uuid": "8f2839f25d086af736a60e9eeb907d3b93b6e0e5",
        "id": "bC9pkXfJILtX",
        "colab_type": "text"
      },
      "source": [
        "# Insurance cost prediction using linear regression\n",
        "\n",
        "In this assignment we're going to use information like a person's age, sex, BMI, no. of children and smoking habit to predict the price of yearly medical bills. This kind of model is useful for insurance companies to determine the yearly insurance premium for a person. The dataset for this problem is taken from: https://www.kaggle.com/mirichoi0218/insurance\n",
        "\n",
        "\n",
        "We will create a model with the following steps:\n",
        "1. Download and explore the dataset\n",
        "2. Prepare the dataset for training\n",
        "3. Create a linear regression model\n",
        "4. Train the model to fit the data\n",
        "5. Make predictions using the trained model\n",
        "\n",
        "\n",
        "This assignment builds upon the concepts from the first 2 lectures. It will help to review these Jupyter notebooks:\n",
        "- PyTorch basics: https://jovian.ml/aakashns/01-pytorch-basics\n",
        "- Linear Regression: https://jovian.ml/aakashns/02-linear-regression\n",
        "- Logistic Regression: https://jovian.ml/aakashns/03-logistic-regression\n",
        "- Linear regression (minimal): https://jovian.ml/aakashns/housing-linear-minimal\n",
        "- Logistic regression (minimal): https://jovian.ml/aakashns/mnist-logistic-minimal\n",
        "\n",
        "As you go through this notebook, you will find a **???** in certain places. Your job is to replace the **???** with appropriate code or values, to ensure that the notebook runs properly end-to-end . In some cases, you'll be required to choose some hyperparameters (learning rate, batch size etc.). Try to experiment with the hypeparameters to get the lowest loss.\n"
      ]
    },
    {
      "cell_type": "code",
      "metadata": {
        "id": "8YbgFXaHILtY",
        "colab_type": "code",
        "outputId": "39a0cdff-01a5-45e5-bd87-c832afeed88d",
        "colab": {
          "base_uri": "https://localhost:8080/",
          "height": 52
        }
      },
      "source": [
        "# Uncomment and run the commands below if imports fail\n",
        "# !conda install numpy pytorch torchvision cpuonly -c pytorch -y\n",
        "# !pip install matplotlib --upgrade --quiet\n",
        "!pip install jovian --upgrade --quiet"
      ],
      "execution_count": 3,
      "outputs": [
        {
          "output_type": "stream",
          "text": [
            "\u001b[?25l\r\u001b[K     |████                            | 10kB 22.9MB/s eta 0:00:01\r\u001b[K     |███████▉                        | 20kB 1.8MB/s eta 0:00:01\r\u001b[K     |███████████▉                    | 30kB 2.3MB/s eta 0:00:01\r\u001b[K     |███████████████▊                | 40kB 2.6MB/s eta 0:00:01\r\u001b[K     |███████████████████▋            | 51kB 2.0MB/s eta 0:00:01\r\u001b[K     |███████████████████████▋        | 61kB 2.3MB/s eta 0:00:01\r\u001b[K     |███████████████████████████▌    | 71kB 2.5MB/s eta 0:00:01\r\u001b[K     |███████████████████████████████▍| 81kB 2.8MB/s eta 0:00:01\r\u001b[K     |████████████████████████████████| 92kB 2.5MB/s \n",
            "\u001b[?25h  Building wheel for uuid (setup.py) ... \u001b[?25l\u001b[?25hdone\n"
          ],
          "name": "stdout"
        }
      ]
    },
    {
      "cell_type": "code",
      "metadata": {
        "id": "niiTpgt_ILte",
        "colab_type": "code",
        "colab": {}
      },
      "source": [
        "import torch\n",
        "import jovian\n",
        "import torchvision\n",
        "import torch.nn as nn\n",
        "import pandas as pd\n",
        "import matplotlib.pyplot as plt\n",
        "import torch.nn.functional as F\n",
        "from torchvision.datasets.utils import download_url\n",
        "from torch.utils.data import DataLoader, TensorDataset, random_split"
      ],
      "execution_count": 0,
      "outputs": []
    },
    {
      "cell_type": "code",
      "metadata": {
        "id": "uoBZtH_BILti",
        "colab_type": "code",
        "colab": {}
      },
      "source": [
        "project_name='02-insurance-linear-regression' # will be used by jovian.commit"
      ],
      "execution_count": 0,
      "outputs": []
    },
    {
      "cell_type": "markdown",
      "metadata": {
        "id": "4kLQgHOBILtl",
        "colab_type": "text"
      },
      "source": [
        "## Step 1: Download and explore the data\n",
        "\n",
        "Let us begin by downloading the data. We'll use the `download_url` function from PyTorch to get the data as a CSV (comma-separated values) file. "
      ]
    },
    {
      "cell_type": "code",
      "metadata": {
        "_cell_guid": "79c7e3d0-c299-4dcb-8224-4455121ee9b0",
        "_uuid": "d629ff2d2480ee46fbb7e2d37f6b5fab8052498a",
        "id": "PXu9RITbILtm",
        "colab_type": "code",
        "outputId": "8a876ba1-a581-4f64-dfd1-dcdc0e521280",
        "colab": {
          "base_uri": "https://localhost:8080/",
          "height": 67,
          "referenced_widgets": [
            "a0b61507f44f4fca86f46d974fd6b48c",
            "b66d0f0991e44ea08d167c2b0a527bcf",
            "1255c5a73f7a4d708f2371b0e3b1f8d8",
            "c9ea057a55be4c869afebeb11107efc8",
            "53634e381ed34790b3d8053dcacf89ba",
            "f1b639336e66428abc4cd3de70a2d60a",
            "9bd0a5819c574800af6af29abb781f07",
            "f19a3f3d104746dc8498ddb89e86de88"
          ]
        }
      },
      "source": [
        "DATASET_URL = \"https://hub.jovian.ml/wp-content/uploads/2020/05/insurance.csv\"\n",
        "DATA_FILENAME = \"insurance.csv\"\n",
        "download_url(DATASET_URL, '.')"
      ],
      "execution_count": 6,
      "outputs": [
        {
          "output_type": "stream",
          "text": [
            "Downloading https://hub.jovian.ml/wp-content/uploads/2020/05/insurance.csv to ./insurance.csv\n"
          ],
          "name": "stdout"
        },
        {
          "output_type": "display_data",
          "data": {
            "application/vnd.jupyter.widget-view+json": {
              "model_id": "a0b61507f44f4fca86f46d974fd6b48c",
              "version_minor": 0,
              "version_major": 2
            },
            "text/plain": [
              "HBox(children=(FloatProgress(value=1.0, bar_style='info', max=1.0), HTML(value='')))"
            ]
          },
          "metadata": {
            "tags": []
          }
        }
      ]
    },
    {
      "cell_type": "markdown",
      "metadata": {
        "id": "VG3jFUe6ILtp",
        "colab_type": "text"
      },
      "source": [
        "To load the dataset into memory, we'll use the `read_csv` function from the `pandas` library. The data will be loaded as a Pandas dataframe. See this short tutorial to learn more: https://data36.com/pandas-tutorial-1-basics-reading-data-files-dataframes-data-selection/"
      ]
    },
    {
      "cell_type": "code",
      "metadata": {
        "id": "cE-TffnLILtq",
        "colab_type": "code",
        "outputId": "b28a4df3-910f-499a-b484-0976499b4070",
        "colab": {
          "base_uri": "https://localhost:8080/",
          "height": 194
        }
      },
      "source": [
        "dataframe_raw = pd.read_csv(DATA_FILENAME)\n",
        "dataframe_raw.head()\n"
      ],
      "execution_count": 7,
      "outputs": [
        {
          "output_type": "execute_result",
          "data": {
            "text/html": [
              "<div>\n",
              "<style scoped>\n",
              "    .dataframe tbody tr th:only-of-type {\n",
              "        vertical-align: middle;\n",
              "    }\n",
              "\n",
              "    .dataframe tbody tr th {\n",
              "        vertical-align: top;\n",
              "    }\n",
              "\n",
              "    .dataframe thead th {\n",
              "        text-align: right;\n",
              "    }\n",
              "</style>\n",
              "<table border=\"1\" class=\"dataframe\">\n",
              "  <thead>\n",
              "    <tr style=\"text-align: right;\">\n",
              "      <th></th>\n",
              "      <th>age</th>\n",
              "      <th>sex</th>\n",
              "      <th>bmi</th>\n",
              "      <th>children</th>\n",
              "      <th>smoker</th>\n",
              "      <th>region</th>\n",
              "      <th>charges</th>\n",
              "    </tr>\n",
              "  </thead>\n",
              "  <tbody>\n",
              "    <tr>\n",
              "      <th>0</th>\n",
              "      <td>19</td>\n",
              "      <td>female</td>\n",
              "      <td>27.900</td>\n",
              "      <td>0</td>\n",
              "      <td>yes</td>\n",
              "      <td>southwest</td>\n",
              "      <td>16884.92400</td>\n",
              "    </tr>\n",
              "    <tr>\n",
              "      <th>1</th>\n",
              "      <td>18</td>\n",
              "      <td>male</td>\n",
              "      <td>33.770</td>\n",
              "      <td>1</td>\n",
              "      <td>no</td>\n",
              "      <td>southeast</td>\n",
              "      <td>1725.55230</td>\n",
              "    </tr>\n",
              "    <tr>\n",
              "      <th>2</th>\n",
              "      <td>28</td>\n",
              "      <td>male</td>\n",
              "      <td>33.000</td>\n",
              "      <td>3</td>\n",
              "      <td>no</td>\n",
              "      <td>southeast</td>\n",
              "      <td>4449.46200</td>\n",
              "    </tr>\n",
              "    <tr>\n",
              "      <th>3</th>\n",
              "      <td>33</td>\n",
              "      <td>male</td>\n",
              "      <td>22.705</td>\n",
              "      <td>0</td>\n",
              "      <td>no</td>\n",
              "      <td>northwest</td>\n",
              "      <td>21984.47061</td>\n",
              "    </tr>\n",
              "    <tr>\n",
              "      <th>4</th>\n",
              "      <td>32</td>\n",
              "      <td>male</td>\n",
              "      <td>28.880</td>\n",
              "      <td>0</td>\n",
              "      <td>no</td>\n",
              "      <td>northwest</td>\n",
              "      <td>3866.85520</td>\n",
              "    </tr>\n",
              "  </tbody>\n",
              "</table>\n",
              "</div>"
            ],
            "text/plain": [
              "   age     sex     bmi  children smoker     region      charges\n",
              "0   19  female  27.900         0    yes  southwest  16884.92400\n",
              "1   18    male  33.770         1     no  southeast   1725.55230\n",
              "2   28    male  33.000         3     no  southeast   4449.46200\n",
              "3   33    male  22.705         0     no  northwest  21984.47061\n",
              "4   32    male  28.880         0     no  northwest   3866.85520"
            ]
          },
          "metadata": {
            "tags": []
          },
          "execution_count": 7
        }
      ]
    },
    {
      "cell_type": "markdown",
      "metadata": {
        "id": "T05bgQH4ILtt",
        "colab_type": "text"
      },
      "source": [
        "We're going to do a slight customization of the data, so that you every participant receives a slightly different version of the dataset. Fill in your name below as a string (enter at least 5 characters)"
      ]
    },
    {
      "cell_type": "code",
      "metadata": {
        "id": "2qfGoqX_ILtu",
        "colab_type": "code",
        "colab": {}
      },
      "source": [
        "your_name = \"pranav\" # at least 5 characters"
      ],
      "execution_count": 0,
      "outputs": []
    },
    {
      "cell_type": "markdown",
      "metadata": {
        "id": "Al39g_2EILty",
        "colab_type": "text"
      },
      "source": [
        "The `customize_dataset` function will customize the dataset slightly using your name as a source of random numbers."
      ]
    },
    {
      "cell_type": "code",
      "metadata": {
        "id": "pjx3GtMMILtz",
        "colab_type": "code",
        "colab": {}
      },
      "source": [
        "def customize_dataset(dataframe_raw, rand_str):\n",
        "    dataframe = dataframe_raw.copy(deep=True)\n",
        "    # drop some rows\n",
        "    dataframe = dataframe.sample(int(0.95*len(dataframe)), random_state=int(ord(rand_str[0])))\n",
        "    # scale input\n",
        "    dataframe.bmi = dataframe.bmi * ord(rand_str[1])/100.\n",
        "    # scale target\n",
        "    dataframe.charges = dataframe.charges * ord(rand_str[2])/100.\n",
        "    # drop column\n",
        "    if ord(rand_str[3]) % 2 == 1:\n",
        "        dataframe = dataframe.drop(['region'], axis=1)\n",
        "    return dataframe"
      ],
      "execution_count": 0,
      "outputs": []
    },
    {
      "cell_type": "code",
      "metadata": {
        "id": "7oRh7vD7ILt2",
        "colab_type": "code",
        "outputId": "3efb4bb4-e2e5-4469-afd9-b7a36da0d73e",
        "colab": {
          "base_uri": "https://localhost:8080/",
          "height": 35
        }
      },
      "source": [
        "dataframe = customize_dataset(dataframe_raw, your_name)\n",
        "dataframe.head()\n",
        "dataframe.shape"
      ],
      "execution_count": 11,
      "outputs": [
        {
          "output_type": "execute_result",
          "data": {
            "text/plain": [
              "(1271, 7)"
            ]
          },
          "metadata": {
            "tags": []
          },
          "execution_count": 11
        }
      ]
    },
    {
      "cell_type": "markdown",
      "metadata": {
        "id": "TnyM5iuNILt4",
        "colab_type": "text"
      },
      "source": [
        "Let us answer some basic questions about the dataset. \n",
        "\n",
        "\n",
        "**Q: How many rows does the dataset have?**"
      ]
    },
    {
      "cell_type": "code",
      "metadata": {
        "id": "GFF3_CyKILt4",
        "colab_type": "code",
        "outputId": "454821cc-1381-4b83-9238-30659894d3bf",
        "colab": {
          "base_uri": "https://localhost:8080/",
          "height": 35
        }
      },
      "source": [
        "num_rows = len(dataframe)\n",
        "print(num_rows)"
      ],
      "execution_count": 12,
      "outputs": [
        {
          "output_type": "stream",
          "text": [
            "1271\n"
          ],
          "name": "stdout"
        }
      ]
    },
    {
      "cell_type": "markdown",
      "metadata": {
        "id": "dI-Jt77SILt7",
        "colab_type": "text"
      },
      "source": [
        "**Q: How many columns doe the dataset have**"
      ]
    },
    {
      "cell_type": "code",
      "metadata": {
        "id": "Jx9cL-C5ILt8",
        "colab_type": "code",
        "outputId": "ae8e6c84-40eb-4b76-bcbc-e7cfdaf15222",
        "colab": {
          "base_uri": "https://localhost:8080/",
          "height": 35
        }
      },
      "source": [
        "num_cols = len(dataframe.columns)\n",
        "print(num_cols)"
      ],
      "execution_count": 15,
      "outputs": [
        {
          "output_type": "stream",
          "text": [
            "7\n"
          ],
          "name": "stdout"
        }
      ]
    },
    {
      "cell_type": "markdown",
      "metadata": {
        "id": "6zgZgKuAILt-",
        "colab_type": "text"
      },
      "source": [
        "**Q: What are the column titles of the input variables?**"
      ]
    },
    {
      "cell_type": "code",
      "metadata": {
        "id": "74sC9XXGILt_",
        "colab_type": "code",
        "colab": {}
      },
      "source": [
        "input_cols = ['age',\t'sex',\t'bmi',\t'children',\t'smoker',\t'region',\t'charges']"
      ],
      "execution_count": 0,
      "outputs": []
    },
    {
      "cell_type": "markdown",
      "metadata": {
        "id": "2X5N3qF6ILuB",
        "colab_type": "text"
      },
      "source": [
        "**Q: Which of the input columns are non-numeric or categorial variables ?**\n",
        "\n",
        "Hint: `sex` is one of them. List the columns that are not numbers."
      ]
    },
    {
      "cell_type": "code",
      "metadata": {
        "id": "PMLOlYRMILuB",
        "colab_type": "code",
        "colab": {}
      },
      "source": [
        "categorical_cols = ['sex', 'smoker', 'region']"
      ],
      "execution_count": 0,
      "outputs": []
    },
    {
      "cell_type": "markdown",
      "metadata": {
        "id": "bwAe2MipILuE",
        "colab_type": "text"
      },
      "source": [
        "**Q: What are the column titles of output/target variable(s)?**"
      ]
    },
    {
      "cell_type": "code",
      "metadata": {
        "id": "cZAljPtaILuE",
        "colab_type": "code",
        "colab": {}
      },
      "source": [
        "output_cols = ['charges']"
      ],
      "execution_count": 0,
      "outputs": []
    },
    {
      "cell_type": "markdown",
      "metadata": {
        "id": "8WN0Uk22ILuI",
        "colab_type": "text"
      },
      "source": [
        "**Q: (Optional) What is the minimum, maximum and average value of the `charges` column? Can you show the distribution of values in a graph?**\n",
        "Use this data visualization cheatsheet for referece: https://jovian.ml/aakashns/dataviz-cheatsheet"
      ]
    },
    {
      "cell_type": "code",
      "metadata": {
        "id": "2Olo1WDXILuI",
        "colab_type": "code",
        "outputId": "04105531-16ce-4309-825b-4443f4059cc4",
        "colab": {
          "base_uri": "https://localhost:8080/",
          "height": 35
        }
      },
      "source": [
        "#n=dataframe['charges',:].mean()\n",
        "n = dataframe['charges'].mean()\n",
        "print(n)"
      ],
      "execution_count": 20,
      "outputs": [
        {
          "output_type": "stream",
          "text": [
            "12925.252525036676\n"
          ],
          "name": "stdout"
        }
      ]
    },
    {
      "cell_type": "markdown",
      "metadata": {
        "id": "PwWYUsvnILuL",
        "colab_type": "text"
      },
      "source": [
        "Remember to commit your notebook to Jovian after every step, so that you don't lose your work."
      ]
    },
    {
      "cell_type": "code",
      "metadata": {
        "id": "OLG7z9wFILuM",
        "colab_type": "code",
        "outputId": "783eb53e-a2e2-444b-ee27-98dcea5cd83c",
        "colab": {
          "base_uri": "https://localhost:8080/",
          "height": 35
        }
      },
      "source": [
        "jovian.commit(project=project_name, environment=None)"
      ],
      "execution_count": 21,
      "outputs": [
        {
          "output_type": "stream",
          "text": [
            "\u001b[31m[jovian] Error: Failed to detect Jupyter notebook or Python script. Skipping..\u001b[0m\n"
          ],
          "name": "stderr"
        }
      ]
    },
    {
      "cell_type": "markdown",
      "metadata": {
        "id": "KCQq6FuzILuP",
        "colab_type": "text"
      },
      "source": [
        "## Step 2: Prepare the dataset for training\n",
        "\n",
        "We need to convert the data from the Pandas dataframe into a PyTorch tensors for training. To do this, the first step is to convert it numpy arrays. If you've filled out `input_cols`, `categorial_cols` and `output_cols` correctly, this following function will perform the conversion to numpy arrays."
      ]
    },
    {
      "cell_type": "code",
      "metadata": {
        "id": "HWcsuJPsILuQ",
        "colab_type": "code",
        "colab": {}
      },
      "source": [
        "def dataframe_to_arrays(dataframe):\n",
        "    # Make a copy of the original dataframe\n",
        "    dataframe1 = dataframe.copy(deep=True)\n",
        "    # Convert non-numeric categorical columns to numbers\n",
        "    for col in categorical_cols:\n",
        "        dataframe1[col] = dataframe1[col].astype('category').cat.codes\n",
        "    # Extract input & outupts as numpy arrays\n",
        "    inputs_array = dataframe1[input_cols].to_numpy()\n",
        "    targets_array = dataframe1[output_cols].to_numpy()\n",
        "    return inputs_array, targets_array"
      ],
      "execution_count": 0,
      "outputs": []
    },
    {
      "cell_type": "markdown",
      "metadata": {
        "id": "EPNM-zbWILuS",
        "colab_type": "text"
      },
      "source": [
        "Read through the [Pandas documentation](https://pandas.pydata.org/pandas-docs/stable/user_guide/categorical.html) to understand how we're converting categorical variables into numbers."
      ]
    },
    {
      "cell_type": "code",
      "metadata": {
        "id": "3cDuEqDBILuS",
        "colab_type": "code",
        "outputId": "06dbf502-31fd-4cd2-c0bc-666351e58fa8",
        "colab": {
          "base_uri": "https://localhost:8080/",
          "height": 372
        }
      },
      "source": [
        "inputs_array, targets_array = dataframe_to_arrays(dataframe)\n",
        "inputs_array, targets_array"
      ],
      "execution_count": 23,
      "outputs": [
        {
          "output_type": "execute_result",
          "data": {
            "text/plain": [
              "(array([[5.60000000e+01, 0.00000000e+00, 4.53948000e+01, ...,\n",
              "         0.00000000e+00, 2.00000000e+00, 1.07579963e+04],\n",
              "        [4.20000000e+01, 0.00000000e+00, 2.84829000e+01, ...,\n",
              "         0.00000000e+00, 1.00000000e+00, 7.77654932e+03],\n",
              "        [1.80000000e+01, 1.00000000e+00, 3.82299000e+01, ...,\n",
              "         1.00000000e+00, 0.00000000e+00, 3.35793054e+04],\n",
              "        ...,\n",
              "        [2.80000000e+01, 1.00000000e+00, 4.03959000e+01, ...,\n",
              "         0.00000000e+00, 0.00000000e+00, 3.17078125e+03],\n",
              "        [3.40000000e+01, 0.00000000e+00, 2.68584000e+01, ...,\n",
              "         0.00000000e+00, 0.00000000e+00, 4.84260511e+03],\n",
              "        [4.60000000e+01, 1.00000000e+00, 2.94120000e+01, ...,\n",
              "         0.00000000e+00, 3.00000000e+00, 9.79406090e+03]]),\n",
              " array([[10757.996266 ],\n",
              "        [ 7776.5493155],\n",
              "        [33579.3054305],\n",
              "        ...,\n",
              "        [ 3170.7812505],\n",
              "        [ 4842.605108 ],\n",
              "        [ 9794.0609   ]]))"
            ]
          },
          "metadata": {
            "tags": []
          },
          "execution_count": 23
        }
      ]
    },
    {
      "cell_type": "markdown",
      "metadata": {
        "id": "61UIrOX4ILuU",
        "colab_type": "text"
      },
      "source": [
        "**Q: Convert the numpy arrays `inputs_array` and `targets_array` into PyTorch tensors. Make sure that the data type is `torch.float32`.**"
      ]
    },
    {
      "cell_type": "code",
      "metadata": {
        "id": "3mKxRxNzILuV",
        "colab_type": "code",
        "colab": {}
      },
      "source": [
        "inputs = torch.from_numpy(inputs_array)\n",
        "targets = torch.from_numpy(targets_array)"
      ],
      "execution_count": 0,
      "outputs": []
    },
    {
      "cell_type": "code",
      "metadata": {
        "id": "tqofMBfiILuX",
        "colab_type": "code",
        "outputId": "04c36928-0560-4dc7-ad4f-c01d709d9ea0",
        "colab": {
          "base_uri": "https://localhost:8080/",
          "height": 35
        }
      },
      "source": [
        "inputs.dtype, targets.dtype"
      ],
      "execution_count": 25,
      "outputs": [
        {
          "output_type": "execute_result",
          "data": {
            "text/plain": [
              "(torch.float64, torch.float64)"
            ]
          },
          "metadata": {
            "tags": []
          },
          "execution_count": 25
        }
      ]
    },
    {
      "cell_type": "markdown",
      "metadata": {
        "id": "ngOGl4xEILua",
        "colab_type": "text"
      },
      "source": [
        "Next, we need to create PyTorch datasets & data loaders for training & validation. We'll start by creating a `TensorDataset`."
      ]
    },
    {
      "cell_type": "code",
      "metadata": {
        "id": "pCiAEidqILub",
        "colab_type": "code",
        "outputId": "e704519d-1c1b-429a-e606-3da11de3c613",
        "colab": {
          "base_uri": "https://localhost:8080/",
          "height": 35
        }
      },
      "source": [
        "dataset = TensorDataset(inputs, targets)\n",
        "len(dataset)"
      ],
      "execution_count": 26,
      "outputs": [
        {
          "output_type": "execute_result",
          "data": {
            "text/plain": [
              "1271"
            ]
          },
          "metadata": {
            "tags": []
          },
          "execution_count": 26
        }
      ]
    },
    {
      "cell_type": "markdown",
      "metadata": {
        "id": "0IdwVuUHILue",
        "colab_type": "text"
      },
      "source": [
        "**Q: Pick a number between `0.1` and `0.2` to determine the fraction of data that will be used for creating the validation set. Then use `random_split` to create training & validation datasets. **"
      ]
    },
    {
      "cell_type": "code",
      "metadata": {
        "id": "N9UU5itfILue",
        "colab_type": "code",
        "colab": {}
      },
      "source": [
        "val_percent = 0.15 # between 0.1 and 0.2\n",
        "val_size = int(num_rows * val_percent)\n",
        "train_size = num_rows - val_size\n",
        "\n",
        "\n",
        "train_ds, val_ds = random_split(dataset,[1000,271]) # Use the random_split function to split dataset into 2 parts of the desired length"
      ],
      "execution_count": 0,
      "outputs": []
    },
    {
      "cell_type": "markdown",
      "metadata": {
        "id": "bIJ9m1qIILuh",
        "colab_type": "text"
      },
      "source": [
        "Finally, we can create data loaders for training & validation.\n",
        "\n",
        "**Q: Pick a batch size for the data loader.**"
      ]
    },
    {
      "cell_type": "code",
      "metadata": {
        "id": "s8iZVD4aILuh",
        "colab_type": "code",
        "colab": {}
      },
      "source": [
        "batch_size = 64"
      ],
      "execution_count": 0,
      "outputs": []
    },
    {
      "cell_type": "code",
      "metadata": {
        "id": "V1XQuBpKILul",
        "colab_type": "code",
        "colab": {}
      },
      "source": [
        "train_loader = DataLoader(train_ds, batch_size, shuffle=True)\n",
        "val_loader = DataLoader(val_ds, batch_size)"
      ],
      "execution_count": 0,
      "outputs": []
    },
    {
      "cell_type": "markdown",
      "metadata": {
        "id": "JMDrj9O4ILun",
        "colab_type": "text"
      },
      "source": [
        "Let's look at a batch of data to verify everything is working fine so far."
      ]
    },
    {
      "cell_type": "code",
      "metadata": {
        "id": "pxM8IxsnILuo",
        "colab_type": "code",
        "outputId": "503c6624-0016-4cac-a614-22d01ad37ab0",
        "colab": {
          "base_uri": "https://localhost:8080/",
          "height": 1000
        }
      },
      "source": [
        "for xb, yb in train_loader:\n",
        "    print(\"inputs:\", xb)\n",
        "    print(\"targets:\", yb)\n",
        "    break"
      ],
      "execution_count": 30,
      "outputs": [
        {
          "output_type": "stream",
          "text": [
            "inputs: tensor([[1.8000e+01, 0.0000e+00, 3.5739e+01, 4.0000e+00, 0.0000e+00, 0.0000e+00,\n",
            "         4.4244e+03],\n",
            "        [4.4000e+01, 0.0000e+00, 4.3388e+01, 0.0000e+00, 1.0000e+00, 2.0000e+00,\n",
            "         4.7419e+04],\n",
            "        [3.3000e+01, 0.0000e+00, 4.8952e+01, 3.0000e+00, 0.0000e+00, 1.0000e+00,\n",
            "         6.1702e+03],\n",
            "        [3.6000e+01, 0.0000e+00, 2.5764e+01, 2.0000e+00, 1.0000e+00, 3.0000e+00,\n",
            "         1.8050e+04],\n",
            "        [2.8000e+01, 1.0000e+00, 3.0757e+01, 2.0000e+00, 0.0000e+00, 0.0000e+00,\n",
            "         4.3020e+03],\n",
            "        [2.0000e+01, 0.0000e+00, 3.6389e+01, 0.0000e+00, 0.0000e+00, 1.0000e+00,\n",
            "         2.1937e+03],\n",
            "        [6.3000e+01, 1.0000e+00, 3.8372e+01, 3.0000e+00, 0.0000e+00, 2.0000e+00,\n",
            "         1.4707e+04],\n",
            "        [5.9000e+01, 0.0000e+00, 3.0216e+01, 0.0000e+00, 0.0000e+00, 0.0000e+00,\n",
            "         1.2431e+04],\n",
            "        [2.9000e+01, 0.0000e+00, 4.4266e+01, 3.0000e+00, 0.0000e+00, 2.0000e+00,\n",
            "         4.9841e+03],\n",
            "        [2.2000e+01, 1.0000e+00, 4.2887e+01, 1.0000e+00, 1.0000e+00, 2.0000e+00,\n",
            "         3.6050e+04],\n",
            "        [6.2000e+01, 0.0000e+00, 3.4764e+01, 2.0000e+00, 0.0000e+00, 1.0000e+00,\n",
            "         1.4569e+04],\n",
            "        [3.1000e+01, 0.0000e+00, 3.7364e+01, 2.0000e+00, 0.0000e+00, 1.0000e+00,\n",
            "         5.1676e+03],\n",
            "        [6.0000e+01, 0.0000e+00, 4.1046e+01, 0.0000e+00, 0.0000e+00, 0.0000e+00,\n",
            "         1.2832e+04],\n",
            "        [4.0000e+01, 0.0000e+00, 3.1236e+01, 1.0000e+00, 0.0000e+00, 3.0000e+00,\n",
            "         6.3020e+03],\n",
            "        [1.8000e+01, 0.0000e+00, 3.5739e+01, 0.0000e+00, 0.0000e+00, 2.0000e+00,\n",
            "         1.5735e+03],\n",
            "        [4.1000e+01, 0.0000e+00, 4.2294e+01, 2.0000e+00, 0.0000e+00, 3.0000e+00,\n",
            "         7.1506e+03],\n",
            "        [6.1000e+01, 1.0000e+00, 4.0880e+01, 0.0000e+00, 1.0000e+00, 2.0000e+00,\n",
            "         4.5201e+04],\n",
            "        [4.1000e+01, 0.0000e+00, 3.6064e+01, 1.0000e+00, 0.0000e+00, 0.0000e+00,\n",
            "         7.1374e+03],\n",
            "        [5.9000e+01, 1.0000e+00, 3.4006e+01, 3.0000e+00, 1.0000e+00, 0.0000e+00,\n",
            "         2.9279e+04],\n",
            "        [4.6000e+01, 1.0000e+00, 4.6028e+01, 2.0000e+00, 0.0000e+00, 1.0000e+00,\n",
            "         8.4712e+03],\n",
            "        [5.3000e+01, 0.0000e+00, 3.0438e+01, 2.0000e+00, 0.0000e+00, 3.0000e+00,\n",
            "         1.0816e+04],\n",
            "        [6.1000e+01, 1.0000e+00, 3.6822e+01, 2.0000e+00, 0.0000e+00, 1.0000e+00,\n",
            "         1.3696e+04],\n",
            "        [5.5000e+01, 1.0000e+00, 3.1515e+01, 0.0000e+00, 0.0000e+00, 1.0000e+00,\n",
            "         1.0277e+04],\n",
            "        [4.9000e+01, 0.0000e+00, 2.4282e+01, 1.0000e+00, 0.0000e+00, 3.0000e+00,\n",
            "         8.9067e+03],\n",
            "        [3.9000e+01, 0.0000e+00, 3.7392e+01, 0.0000e+00, 0.0000e+00, 3.0000e+00,\n",
            "         5.4802e+03],\n",
            "        [5.1000e+01, 1.0000e+00, 3.1624e+01, 1.0000e+00, 0.0000e+00, 0.0000e+00,\n",
            "         9.6590e+03],\n",
            "        [2.1000e+01, 1.0000e+00, 2.5422e+01, 1.0000e+00, 0.0000e+00, 3.0000e+00,\n",
            "         2.0400e+03],\n",
            "        [3.5000e+01, 1.0000e+00, 3.1624e+01, 2.0000e+00, 1.0000e+00, 0.0000e+00,\n",
            "         2.0355e+04],\n",
            "        [2.8000e+01, 1.0000e+00, 2.5667e+01, 2.0000e+00, 0.0000e+00, 0.0000e+00,\n",
            "         4.2960e+03],\n",
            "        [2.4000e+01, 0.0000e+00, 3.1464e+01, 0.0000e+00, 0.0000e+00, 3.0000e+00,\n",
            "         1.8387e+04],\n",
            "        [4.0000e+01, 1.0000e+00, 3.7364e+01, 1.0000e+00, 1.0000e+00, 0.0000e+00,\n",
            "         3.7952e+04],\n",
            "        [2.4000e+01, 1.0000e+00, 3.6491e+01, 0.0000e+00, 0.0000e+00, 2.0000e+00,\n",
            "         1.9221e+03],\n",
            "        [4.1000e+01, 0.0000e+00, 3.7797e+01, 3.0000e+00, 0.0000e+00, 0.0000e+00,\n",
            "         8.2821e+03],\n",
            "        [5.3000e+01, 0.0000e+00, 4.5144e+01, 1.0000e+00, 0.0000e+00, 2.0000e+00,\n",
            "         1.0262e+04],\n",
            "        [4.8000e+01, 1.0000e+00, 3.3858e+01, 0.0000e+00, 0.0000e+00, 2.0000e+00,\n",
            "         7.5559e+03],\n",
            "        [5.8000e+01, 1.0000e+00, 4.2129e+01, 2.0000e+00, 1.0000e+00, 1.0000e+00,\n",
            "         4.6072e+04],\n",
            "        [5.6000e+01, 1.0000e+00, 4.5942e+01, 0.0000e+00, 0.0000e+00, 3.0000e+00,\n",
            "         1.0284e+04],\n",
            "        [5.2000e+01, 0.0000e+00, 3.5089e+01, 1.0000e+00, 0.0000e+00, 0.0000e+00,\n",
            "         1.0473e+04],\n",
            "        [3.5000e+01, 1.0000e+00, 4.5269e+01, 4.0000e+00, 0.0000e+00, 0.0000e+00,\n",
            "         1.8912e+04],\n",
            "        [1.9000e+01, 0.0000e+00, 2.3484e+01, 0.0000e+00, 0.0000e+00, 3.0000e+00,\n",
            "         1.6797e+03],\n",
            "        [1.8000e+01, 1.0000e+00, 3.1190e+01, 1.0000e+00, 1.0000e+00, 0.0000e+00,\n",
            "         1.6663e+04],\n",
            "        [4.9000e+01, 1.0000e+00, 3.6822e+01, 3.0000e+00, 0.0000e+00, 1.0000e+00,\n",
            "         9.9614e+03],\n",
            "        [2.9000e+01, 1.0000e+00, 3.6605e+01, 2.0000e+00, 0.0000e+00, 1.0000e+00,\n",
            "         4.3009e+03],\n",
            "        [3.6000e+01, 1.0000e+00, 3.3858e+01, 0.0000e+00, 0.0000e+00, 2.0000e+00,\n",
            "         4.2677e+03],\n",
            "        [4.5000e+01, 1.0000e+00, 3.2718e+01, 2.0000e+00, 0.0000e+00, 3.0000e+00,\n",
            "         7.7871e+03],\n",
            "        [5.7000e+01, 1.0000e+00, 3.8338e+01, 1.0000e+00, 0.0000e+00, 1.0000e+00,\n",
            "         1.1587e+04],\n",
            "        [2.7000e+01, 0.0000e+00, 2.4476e+01, 0.0000e+00, 0.0000e+00, 1.0000e+00,\n",
            "         3.2529e+03],\n",
            "        [6.3000e+01, 0.0000e+00, 2.6317e+01, 0.0000e+00, 0.0000e+00, 0.0000e+00,\n",
            "         1.4018e+04],\n",
            "        [3.2000e+01, 1.0000e+00, 3.5112e+01, 3.0000e+00, 0.0000e+00, 3.0000e+00,\n",
            "         5.0959e+03],\n",
            "        [2.2000e+01, 1.0000e+00, 3.2923e+01, 0.0000e+00, 0.0000e+00, 0.0000e+00,\n",
            "         2.1833e+03],\n",
            "        [5.3000e+01, 1.0000e+00, 2.4396e+01, 1.0000e+00, 0.0000e+00, 3.0000e+00,\n",
            "         9.7635e+03],\n",
            "        [2.5000e+01, 1.0000e+00, 2.8483e+01, 2.0000e+00, 0.0000e+00, 0.0000e+00,\n",
            "         2.2544e+04],\n",
            "        [3.5000e+01, 1.0000e+00, 3.4770e+01, 1.0000e+00, 0.0000e+00, 3.0000e+00,\n",
            "         4.6085e+03],\n",
            "        [3.2000e+01, 0.0000e+00, 4.2345e+01, 3.0000e+00, 0.0000e+00, 0.0000e+00,\n",
            "         6.1443e+03],\n",
            "        [3.2000e+01, 1.0000e+00, 4.2562e+01, 1.0000e+00, 0.0000e+00, 0.0000e+00,\n",
            "         4.5276e+03],\n",
            "        [2.0000e+01, 1.0000e+00, 3.5488e+01, 2.0000e+00, 0.0000e+00, 2.0000e+00,\n",
            "         2.4895e+03],\n",
            "        [6.0000e+01, 1.0000e+00, 3.3790e+01, 0.0000e+00, 0.0000e+00, 0.0000e+00,\n",
            "         1.2349e+04],\n",
            "        [5.7000e+01, 1.0000e+00, 3.5956e+01, 0.0000e+00, 0.0000e+00, 1.0000e+00,\n",
            "         1.1013e+04],\n",
            "        [6.2000e+01, 1.0000e+00, 3.6497e+01, 0.0000e+00, 1.0000e+00, 0.0000e+00,\n",
            "         4.4339e+04],\n",
            "        [1.9000e+01, 1.0000e+00, 3.9216e+01, 0.0000e+00, 0.0000e+00, 3.0000e+00,\n",
            "         1.2240e+03],\n",
            "        [6.1000e+01, 1.0000e+00, 4.9476e+01, 0.0000e+00, 0.0000e+00, 3.0000e+00,\n",
            "         1.2197e+04],\n",
            "        [3.3000e+01, 1.0000e+00, 4.8336e+01, 5.0000e+00, 0.0000e+00, 3.0000e+00,\n",
            "         6.4663e+03],\n",
            "        [5.3000e+01, 1.0000e+00, 4.1154e+01, 1.0000e+00, 0.0000e+00, 3.0000e+00,\n",
            "         9.7833e+03],\n",
            "        [2.6000e+01, 1.0000e+00, 5.3044e+01, 1.0000e+00, 0.0000e+00, 2.0000e+00,\n",
            "         2.8393e+03]], dtype=torch.float64)\n",
            "targets: tensor([[ 4424.3528],\n",
            "        [47418.5815],\n",
            "        [ 6170.1638],\n",
            "        [18050.0141],\n",
            "        [ 4302.0414],\n",
            "        [ 2193.7217],\n",
            "        [14706.6884],\n",
            "        [12430.9816],\n",
            "        [ 4984.1090],\n",
            "        [36050.2089],\n",
            "        [14569.1672],\n",
            "        [ 5167.5782],\n",
            "        [12831.9815],\n",
            "        [ 6301.9794],\n",
            "        [ 1573.5228],\n",
            "        [ 7150.6188],\n",
            "        [45201.1351],\n",
            "        [ 7137.4304],\n",
            "        [29279.3886],\n",
            "        [ 8471.2324],\n",
            "        [10816.2566],\n",
            "        [13696.0314],\n",
            "        [10276.6665],\n",
            "        [ 8906.7049],\n",
            "        [ 5480.2235],\n",
            "        [ 9658.9900],\n",
            "        [ 2039.9876],\n",
            "        [20354.5708],\n",
            "        [ 4296.0212],\n",
            "        [18386.5636],\n",
            "        [37951.5723],\n",
            "        [ 1922.1344],\n",
            "        [ 8282.1398],\n",
            "        [10262.3197],\n",
            "        [ 7555.9459],\n",
            "        [46071.5996],\n",
            "        [10284.3134],\n",
            "        [10473.4161],\n",
            "        [18911.8176],\n",
            "        [ 1679.7267],\n",
            "        [16663.3219],\n",
            "        [ 9961.3762],\n",
            "        [ 4300.8984],\n",
            "        [ 4267.7391],\n",
            "        [ 7787.1290],\n",
            "        [11586.7787],\n",
            "        [ 3252.8662],\n",
            "        [14018.2801],\n",
            "        [ 5095.9183],\n",
            "        [ 2183.3101],\n",
            "        [ 9763.4506],\n",
            "        [22544.2303],\n",
            "        [ 4608.5379],\n",
            "        [ 6144.3132],\n",
            "        [ 4527.5794],\n",
            "        [ 2489.4766],\n",
            "        [12349.0696],\n",
            "        [11012.6308],\n",
            "        [44338.9016],\n",
            "        [ 1224.0032],\n",
            "        [12196.8275],\n",
            "        [ 6466.2557],\n",
            "        [ 9783.2706],\n",
            "        [ 2839.2528]], dtype=torch.float64)\n"
          ],
          "name": "stdout"
        }
      ]
    },
    {
      "cell_type": "markdown",
      "metadata": {
        "id": "2ZaXY5R2ILuq",
        "colab_type": "text"
      },
      "source": [
        "Let's save our work by committing to Jovian."
      ]
    },
    {
      "cell_type": "code",
      "metadata": {
        "id": "ctYJKugPILuq",
        "colab_type": "code",
        "colab": {}
      },
      "source": [
        "jovian.commit(project=project_name, environment=None)"
      ],
      "execution_count": 0,
      "outputs": []
    },
    {
      "cell_type": "markdown",
      "metadata": {
        "id": "m-4-AqZfILus",
        "colab_type": "text"
      },
      "source": [
        "## Step 3: Create a Linear Regression Model\n",
        "\n",
        "Our model itself is a fairly straightforward linear regression (we'll build more complex models in the next assignment). \n"
      ]
    },
    {
      "cell_type": "code",
      "metadata": {
        "id": "1c501yruILut",
        "colab_type": "code",
        "colab": {}
      },
      "source": [
        "input_size = len(input_cols)\n",
        "output_size = len(output_cols)"
      ],
      "execution_count": 0,
      "outputs": []
    },
    {
      "cell_type": "markdown",
      "metadata": {
        "id": "M6XvkC5GILuv",
        "colab_type": "text"
      },
      "source": [
        "**Q: Complete the class definition below by filling out the constructor (`__init__`), `forward`, `training_step` and `validation_step` methods.**\n",
        "\n",
        "Hint: Think carefully about picking a good loss fuction (it's not cross entropy). Maybe try 2-3 of them and see which one works best. See https://pytorch.org/docs/stable/nn.functional.html#loss-functions"
      ]
    },
    {
      "cell_type": "code",
      "metadata": {
        "id": "9dkTTmqQILuw",
        "colab_type": "code",
        "colab": {}
      },
      "source": [
        "class InsuranceModel(nn.Module):\n",
        "    def __init__(self):\n",
        "        super().__init__()\n",
        "        self.linear = nn.Linear(input_size, output_size)                 # fill this (hint: use input_size & output_size defined above)\n",
        "        \n",
        "    def forward(self, xb):\n",
        "        out = self.linear(xb)                          # fill this\n",
        "        return out\n",
        "    \n",
        "    def training_step(self, batch):\n",
        "        inputs, targets = batch \n",
        "        # Generate predictions\n",
        "        out = self(inputs)          \n",
        "        # Calcuate loss\n",
        "        loss = F.smooth_l1_loss(out, targets)                         # fill this\n",
        "        return loss\n",
        "    \n",
        "    def validation_step(self, batch):\n",
        "        inputs, targets = batch\n",
        "        # Generate predictions\n",
        "        out = self(inputs)\n",
        "        # Calculate loss\n",
        "        loss = F.smooth_l1_loss(out, targets)                           # fill this    \n",
        "        return {'val_loss': loss.detach()}\n",
        "        \n",
        "    def validation_epoch_end(self, outputs):\n",
        "        batch_losses = [x['val_loss'] for x in outputs]\n",
        "        epoch_loss = torch.stack(batch_losses).mean()   # Combine losses\n",
        "        return {'val_loss': epoch_loss.item()}\n",
        "    \n",
        "    def epoch_end(self, epoch, result, num_epochs):\n",
        "        # Print result every 20th epoch\n",
        "        if (epoch+1) % 20 == 0 or epoch == num_epochs-1:\n",
        "            print(\"Epoch [{}], val_loss: {:.4f}\".format(epoch+1, result['val_loss']))"
      ],
      "execution_count": 0,
      "outputs": []
    },
    {
      "cell_type": "markdown",
      "metadata": {
        "id": "7YUas7AUILuy",
        "colab_type": "text"
      },
      "source": [
        "Let us create a model using the `InsuranceModel` class. You may need to come back later and re-run the next cell to reinitialize the model, in case the loss becomes `nan` or `infinity`."
      ]
    },
    {
      "cell_type": "code",
      "metadata": {
        "id": "MoxRoVnoILuz",
        "colab_type": "code",
        "colab": {}
      },
      "source": [
        "model = InsuranceModel()"
      ],
      "execution_count": 0,
      "outputs": []
    },
    {
      "cell_type": "markdown",
      "metadata": {
        "id": "N8rk9-KzILu1",
        "colab_type": "text"
      },
      "source": [
        "Let's check out the weights and biases of the model using `model.parameters`."
      ]
    },
    {
      "cell_type": "code",
      "metadata": {
        "id": "HyjgRlReILu1",
        "colab_type": "code",
        "outputId": "e3234425-4736-4619-d6ee-fee939a5140a",
        "colab": {
          "base_uri": "https://localhost:8080/",
          "height": 88
        }
      },
      "source": [
        "list(model.parameters())"
      ],
      "execution_count": 49,
      "outputs": [
        {
          "output_type": "execute_result",
          "data": {
            "text/plain": [
              "[Parameter containing:\n",
              " tensor([[-0.1379,  0.2514, -0.0972,  0.1083, -0.2971,  0.1502,  0.0079]],\n",
              "        requires_grad=True), Parameter containing:\n",
              " tensor([0.2796], requires_grad=True)]"
            ]
          },
          "metadata": {
            "tags": []
          },
          "execution_count": 49
        }
      ]
    },
    {
      "cell_type": "markdown",
      "metadata": {
        "id": "hkFoXaFtILu3",
        "colab_type": "text"
      },
      "source": [
        "One final commit before we train the model."
      ]
    },
    {
      "cell_type": "code",
      "metadata": {
        "id": "GQX8VExmILu3",
        "colab_type": "code",
        "outputId": "4e65bded-93aa-4e73-9828-abb64c8522bc",
        "colab": {
          "base_uri": "https://localhost:8080/",
          "height": 35
        }
      },
      "source": [
        "jovian.commit(project=project_name, environment=None)"
      ],
      "execution_count": 40,
      "outputs": [
        {
          "output_type": "stream",
          "text": [
            "\u001b[31m[jovian] Error: Failed to detect Jupyter notebook or Python script. Skipping..\u001b[0m\n"
          ],
          "name": "stderr"
        }
      ]
    },
    {
      "cell_type": "markdown",
      "metadata": {
        "id": "BY-XsjFZILu5",
        "colab_type": "text"
      },
      "source": [
        "## Step 4: Train the model to fit the data\n",
        "\n",
        "To train our model, we'll use the same `fit` function explained in the lecture. That's the benefit of defining a generic training loop - you can use it for any problem."
      ]
    },
    {
      "cell_type": "code",
      "metadata": {
        "id": "6DEudiztILu5",
        "colab_type": "code",
        "colab": {}
      },
      "source": [
        "def evaluate(model, val_loader):\n",
        "    outputs = [model.validation_step(batch) for batch in val_loader]\n",
        "    return model.validation_epoch_end(outputs)\n",
        "\n",
        "def fit(epochs, lr, model, train_loader, val_loader, opt_func=torch.optim.SGD):\n",
        "    history = []\n",
        "    optimizer = opt_func(model.parameters(), lr)\n",
        "    for epoch in range(epochs):\n",
        "        # Training Phase \n",
        "        for batch in train_loader:\n",
        "            loss = model.training_step(batch)\n",
        "            loss.backward()\n",
        "            optimizer.step()\n",
        "            optimizer.zero_grad()\n",
        "        # Validation phase\n",
        "        result = evaluate(model, val_loader)\n",
        "        model.epoch_end(epoch, result, epochs)\n",
        "        history.append(result)\n",
        "    return history"
      ],
      "execution_count": 0,
      "outputs": []
    },
    {
      "cell_type": "markdown",
      "metadata": {
        "id": "Vdcy0St1ILu8",
        "colab_type": "text"
      },
      "source": [
        "**Q: Use the `evaluate` function to calculate the loss on the validation set before training.**"
      ]
    },
    {
      "cell_type": "code",
      "metadata": {
        "id": "4PNz7wmoILu8",
        "colab_type": "code",
        "outputId": "be758f7f-30f3-42bd-efdb-26baca8de094",
        "colab": {
          "base_uri": "https://localhost:8080/",
          "height": 35
        }
      },
      "source": [
        "result = evaluate(model.double(), val_loader) # Use the the evaluate function\n",
        "print(result)"
      ],
      "execution_count": 51,
      "outputs": [
        {
          "output_type": "stream",
          "text": [
            "{'val_loss': 11892.462649784424}\n"
          ],
          "name": "stdout"
        }
      ]
    },
    {
      "cell_type": "markdown",
      "metadata": {
        "id": "a4Wj3yQ2ILu_",
        "colab_type": "text"
      },
      "source": [
        "\n",
        "We are now ready to train the model. You may need to run the training loop many times, for different number of epochs and with different learning rates, to get a good result. Also, if your loss becomes too large (or `nan`), you may have to re-initialize the model by running the cell `model = InsuranceModel()`. Experiment with this for a while, and try to get to as low a loss as possible."
      ]
    },
    {
      "cell_type": "markdown",
      "metadata": {
        "id": "wH-3y17kILu_",
        "colab_type": "text"
      },
      "source": [
        "**Q: Train the model 4-5 times with different learning rates & for different number of epochs.**\n",
        "\n",
        "Hint: Vary learning rates by orders of 10 (e.g. `1e-2`, `1e-3`, `1e-4`, `1e-5`, `1e-6`) to figure out what works."
      ]
    },
    {
      "cell_type": "code",
      "metadata": {
        "id": "Q4ySdtm4ILvA",
        "colab_type": "code",
        "outputId": "bb76fd41-d712-4df3-8bc1-e1743da94ae1",
        "colab": {
          "base_uri": "https://localhost:8080/",
          "height": 906
        }
      },
      "source": [
        "epochs = 1000\n",
        "lr = 1e-2\n",
        "history1 = fit(epochs, lr, model, train_loader, val_loader)"
      ],
      "execution_count": 52,
      "outputs": [
        {
          "output_type": "stream",
          "text": [
            "Epoch [20], val_loss: 456534.3789\n",
            "Epoch [40], val_loss: 1254485.9212\n",
            "Epoch [60], val_loss: 317844.2959\n",
            "Epoch [80], val_loss: 1689804.3278\n",
            "Epoch [100], val_loss: 539665.6329\n",
            "Epoch [120], val_loss: 190793.8421\n",
            "Epoch [140], val_loss: 1666278.3974\n",
            "Epoch [160], val_loss: 1254943.8833\n",
            "Epoch [180], val_loss: 1245173.5884\n",
            "Epoch [200], val_loss: 1412675.9032\n",
            "Epoch [220], val_loss: 875446.8504\n",
            "Epoch [240], val_loss: 1347675.9945\n",
            "Epoch [260], val_loss: 1016212.9195\n",
            "Epoch [280], val_loss: 415076.2581\n",
            "Epoch [300], val_loss: 900875.6431\n",
            "Epoch [320], val_loss: 1828841.1054\n",
            "Epoch [340], val_loss: 1190401.5570\n",
            "Epoch [360], val_loss: 1171179.6722\n",
            "Epoch [380], val_loss: 1442081.0026\n",
            "Epoch [400], val_loss: 150687.0626\n",
            "Epoch [420], val_loss: 190133.0195\n",
            "Epoch [440], val_loss: 810667.7050\n",
            "Epoch [460], val_loss: 878261.5472\n",
            "Epoch [480], val_loss: 1016575.9596\n",
            "Epoch [500], val_loss: 844541.6664\n",
            "Epoch [520], val_loss: 847696.7590\n",
            "Epoch [540], val_loss: 1052961.2882\n",
            "Epoch [560], val_loss: 144063.8977\n",
            "Epoch [580], val_loss: 497883.9073\n",
            "Epoch [600], val_loss: 290583.8257\n",
            "Epoch [620], val_loss: 663508.9597\n",
            "Epoch [640], val_loss: 1917345.4573\n",
            "Epoch [660], val_loss: 834348.5884\n",
            "Epoch [680], val_loss: 1173997.8582\n",
            "Epoch [700], val_loss: 1092601.2334\n",
            "Epoch [720], val_loss: 943165.7117\n",
            "Epoch [740], val_loss: 365170.9246\n",
            "Epoch [760], val_loss: 715766.9325\n",
            "Epoch [780], val_loss: 447397.1897\n",
            "Epoch [800], val_loss: 1471204.1332\n",
            "Epoch [820], val_loss: 8456.6253\n",
            "Epoch [840], val_loss: 1264856.3636\n",
            "Epoch [860], val_loss: 1765017.8324\n",
            "Epoch [880], val_loss: 155785.5551\n",
            "Epoch [900], val_loss: 1511165.6801\n",
            "Epoch [920], val_loss: 963585.7058\n",
            "Epoch [940], val_loss: 1310834.4221\n",
            "Epoch [960], val_loss: 480722.1732\n",
            "Epoch [980], val_loss: 490087.4037\n",
            "Epoch [1000], val_loss: 200503.8926\n"
          ],
          "name": "stdout"
        }
      ]
    },
    {
      "cell_type": "code",
      "metadata": {
        "id": "tkbpufeZILvC",
        "colab_type": "code",
        "outputId": "2999b163-0458-46b2-ace3-520bd9cec812",
        "colab": {
          "base_uri": "https://localhost:8080/",
          "height": 461
        }
      },
      "source": [
        "epochs = 500\n",
        "lr = 1e-3\n",
        "history2 = fit(epochs, lr, model, train_loader, val_loader)"
      ],
      "execution_count": 53,
      "outputs": [
        {
          "output_type": "stream",
          "text": [
            "Epoch [20], val_loss: 82125.0960\n",
            "Epoch [40], val_loss: 129697.8377\n",
            "Epoch [60], val_loss: 59798.2615\n",
            "Epoch [80], val_loss: 139762.5109\n",
            "Epoch [100], val_loss: 4348.4623\n",
            "Epoch [120], val_loss: 73929.6834\n",
            "Epoch [140], val_loss: 99200.1220\n",
            "Epoch [160], val_loss: 10128.5313\n",
            "Epoch [180], val_loss: 154567.9487\n",
            "Epoch [200], val_loss: 118240.7046\n",
            "Epoch [220], val_loss: 82875.4672\n",
            "Epoch [240], val_loss: 3186.4293\n",
            "Epoch [260], val_loss: 39655.9604\n",
            "Epoch [280], val_loss: 128981.6608\n",
            "Epoch [300], val_loss: 28608.8780\n",
            "Epoch [320], val_loss: 155594.7820\n",
            "Epoch [340], val_loss: 69657.6742\n",
            "Epoch [360], val_loss: 119264.5985\n",
            "Epoch [380], val_loss: 2734.8231\n",
            "Epoch [400], val_loss: 130159.7582\n",
            "Epoch [420], val_loss: 167059.6296\n",
            "Epoch [440], val_loss: 14742.2714\n",
            "Epoch [460], val_loss: 33394.1624\n",
            "Epoch [480], val_loss: 98203.9470\n",
            "Epoch [500], val_loss: 119379.3952\n"
          ],
          "name": "stdout"
        }
      ]
    },
    {
      "cell_type": "code",
      "metadata": {
        "id": "aPaqWJlZILvD",
        "colab_type": "code",
        "colab": {
          "base_uri": "https://localhost:8080/",
          "height": 461
        },
        "outputId": "ad6382d8-221f-40ff-d2f4-3c8bcac6c2ae"
      },
      "source": [
        "epochs = 500\n",
        "lr = 1e-5\n",
        "history3 = fit(epochs, lr, model, train_loader, val_loader)"
      ],
      "execution_count": 54,
      "outputs": [
        {
          "output_type": "stream",
          "text": [
            "Epoch [20], val_loss: 858.3311\n",
            "Epoch [40], val_loss: 1254.8069\n",
            "Epoch [60], val_loss: 629.2555\n",
            "Epoch [80], val_loss: 1334.2829\n",
            "Epoch [100], val_loss: 103.4213\n",
            "Epoch [120], val_loss: 385.6753\n",
            "Epoch [140], val_loss: 535.4225\n",
            "Epoch [160], val_loss: 1015.9167\n",
            "Epoch [180], val_loss: 1373.1121\n",
            "Epoch [200], val_loss: 546.8949\n",
            "Epoch [220], val_loss: 1134.0033\n",
            "Epoch [240], val_loss: 578.4479\n",
            "Epoch [260], val_loss: 555.4667\n",
            "Epoch [280], val_loss: 376.3992\n",
            "Epoch [300], val_loss: 450.6930\n",
            "Epoch [320], val_loss: 646.0845\n",
            "Epoch [340], val_loss: 1027.5553\n",
            "Epoch [360], val_loss: 844.8696\n",
            "Epoch [380], val_loss: 1284.0237\n",
            "Epoch [400], val_loss: 401.6479\n",
            "Epoch [420], val_loss: 740.6762\n",
            "Epoch [440], val_loss: 1366.8649\n",
            "Epoch [460], val_loss: 657.2376\n",
            "Epoch [480], val_loss: 1460.0624\n",
            "Epoch [500], val_loss: 440.2810\n"
          ],
          "name": "stdout"
        }
      ]
    },
    {
      "cell_type": "code",
      "metadata": {
        "id": "MowVOqDhILvG",
        "colab_type": "code",
        "colab": {
          "base_uri": "https://localhost:8080/",
          "height": 284
        },
        "outputId": "88f7c61c-b23b-4400-8653-c5d609e496cd"
      },
      "source": [
        "epochs = 300\n",
        "lr = 1e-6\n",
        "history4 = fit(epochs, lr, model, train_loader, val_loader)"
      ],
      "execution_count": 55,
      "outputs": [
        {
          "output_type": "stream",
          "text": [
            "Epoch [20], val_loss: 55.0594\n",
            "Epoch [40], val_loss: 54.6516\n",
            "Epoch [60], val_loss: 101.9657\n",
            "Epoch [80], val_loss: 86.8026\n",
            "Epoch [100], val_loss: 53.4193\n",
            "Epoch [120], val_loss: 53.3811\n",
            "Epoch [140], val_loss: 58.4409\n",
            "Epoch [160], val_loss: 53.2098\n",
            "Epoch [180], val_loss: 52.4928\n",
            "Epoch [200], val_loss: 52.5689\n",
            "Epoch [220], val_loss: 54.8271\n",
            "Epoch [240], val_loss: 51.8773\n",
            "Epoch [260], val_loss: 52.3193\n",
            "Epoch [280], val_loss: 74.9306\n",
            "Epoch [300], val_loss: 53.0463\n"
          ],
          "name": "stdout"
        }
      ]
    },
    {
      "cell_type": "code",
      "metadata": {
        "id": "hyzP_vo3ILvI",
        "colab_type": "code",
        "colab": {
          "base_uri": "https://localhost:8080/",
          "height": 195
        },
        "outputId": "acfce8dd-7723-4dce-e88d-604c5ec3914b"
      },
      "source": [
        "epochs = 200\n",
        "lr = 1e-7\n",
        "history5 = fit(epochs, lr, model, train_loader, val_loader)"
      ],
      "execution_count": 56,
      "outputs": [
        {
          "output_type": "stream",
          "text": [
            "Epoch [20], val_loss: 52.1146\n",
            "Epoch [40], val_loss: 54.0220\n",
            "Epoch [60], val_loss: 52.0299\n",
            "Epoch [80], val_loss: 51.6565\n",
            "Epoch [100], val_loss: 52.5211\n",
            "Epoch [120], val_loss: 52.6080\n",
            "Epoch [140], val_loss: 52.1379\n",
            "Epoch [160], val_loss: 52.1629\n",
            "Epoch [180], val_loss: 51.6922\n",
            "Epoch [200], val_loss: 52.6308\n"
          ],
          "name": "stdout"
        }
      ]
    },
    {
      "cell_type": "markdown",
      "metadata": {
        "id": "LlvdCF0EILvL",
        "colab_type": "text"
      },
      "source": [
        "**Q: What is the final validation loss of your model?**"
      ]
    },
    {
      "cell_type": "code",
      "metadata": {
        "id": "KcrGBwPHILvL",
        "colab_type": "code",
        "colab": {
          "base_uri": "https://localhost:8080/",
          "height": 35
        },
        "outputId": "cc4f1764-0f08-410c-e14e-9bb4ccf0a83f"
      },
      "source": [
        "val_loss = history5[-1]\n",
        "print(val_loss)"
      ],
      "execution_count": 59,
      "outputs": [
        {
          "output_type": "stream",
          "text": [
            "{'val_loss': 52.630813234842364}\n"
          ],
          "name": "stdout"
        }
      ]
    },
    {
      "cell_type": "markdown",
      "metadata": {
        "id": "MSfGAVDFILvR",
        "colab_type": "text"
      },
      "source": [
        "Let's log the final validation loss to Jovian and commit the notebook"
      ]
    },
    {
      "cell_type": "code",
      "metadata": {
        "id": "UCgLI_drILvR",
        "colab_type": "code",
        "colab": {
          "base_uri": "https://localhost:8080/",
          "height": 70
        },
        "outputId": "cad429a0-a712-4515-e21a-9e5748aaafe3"
      },
      "source": [
        "jovian.log_metrics(val_loss=val_loss)"
      ],
      "execution_count": 60,
      "outputs": [
        {
          "output_type": "stream",
          "text": [
            "[jovian] Please enter your API key ( from https://jovian.ml/ ):\u001b[0m\n",
            "API KEY: ··········\n",
            "[jovian] Metrics logged.\u001b[0m\n"
          ],
          "name": "stdout"
        }
      ]
    },
    {
      "cell_type": "code",
      "metadata": {
        "id": "zDGnLi_PILvV",
        "colab_type": "code",
        "colab": {
          "base_uri": "https://localhost:8080/",
          "height": 35
        },
        "outputId": "8cb2a448-2c93-438b-fd1f-c86d3303b1d6"
      },
      "source": [
        "jovian.commit(project=project_name, environment=None)"
      ],
      "execution_count": 61,
      "outputs": [
        {
          "output_type": "stream",
          "text": [
            "\u001b[31m[jovian] Error: Failed to detect Jupyter notebook or Python script. Skipping..\u001b[0m\n"
          ],
          "name": "stderr"
        }
      ]
    },
    {
      "cell_type": "markdown",
      "metadata": {
        "id": "6TUTBCUNILvY",
        "colab_type": "text"
      },
      "source": [
        "Now scroll back up, re-initialize the model, and try different set of values for batch size, number of epochs, learning rate etc. Commit each experiment and use the \"Compare\" and \"View Diff\" options on Jovian to compare the different results."
      ]
    },
    {
      "cell_type": "markdown",
      "metadata": {
        "id": "tlb4IWolILvY",
        "colab_type": "text"
      },
      "source": [
        "## Step 5: Make predictions using the trained model\n",
        "\n",
        "**Q: Complete the following function definition to make predictions on a single input**"
      ]
    },
    {
      "cell_type": "code",
      "metadata": {
        "id": "l69vLoMGILvZ",
        "colab_type": "code",
        "colab": {}
      },
      "source": [
        "def predict_single(input, target, model):\n",
        "    inputs = input.unsqueeze(0)\n",
        "    predictions = model(inputs)                # fill this\n",
        "    prediction = predictions[0].detach()\n",
        "    print(\"Input:\", input)\n",
        "    print(\"Target:\", target)\n",
        "    print(\"Prediction:\", prediction)"
      ],
      "execution_count": 0,
      "outputs": []
    },
    {
      "cell_type": "code",
      "metadata": {
        "id": "MskZxZsUILve",
        "colab_type": "code",
        "colab": {
          "base_uri": "https://localhost:8080/",
          "height": 88
        },
        "outputId": "974d68a6-1adf-4144-c14b-94b892ef2986"
      },
      "source": [
        "input, target = val_ds[0]\n",
        "predict_single(input, target, model)"
      ],
      "execution_count": 63,
      "outputs": [
        {
          "output_type": "stream",
          "text": [
            "Input: tensor([5.4000e+01, 0.0000e+00, 4.0829e+01, 3.0000e+00, 0.0000e+00, 1.0000e+00,\n",
            "        1.2120e+04], dtype=torch.float64)\n",
            "Target: tensor([12120.4321], dtype=torch.float64)\n",
            "Prediction: tensor([12046.5041], dtype=torch.float64)\n"
          ],
          "name": "stdout"
        }
      ]
    },
    {
      "cell_type": "code",
      "metadata": {
        "id": "lo_eRUfMILvg",
        "colab_type": "code",
        "colab": {
          "base_uri": "https://localhost:8080/",
          "height": 88
        },
        "outputId": "f7f11a43-5819-4c7a-9709-2c03d5234472"
      },
      "source": [
        "input, target = val_ds[10]\n",
        "predict_single(input, target, model)"
      ],
      "execution_count": 64,
      "outputs": [
        {
          "output_type": "stream",
          "text": [
            "Input: tensor([1.8000e+01, 0.0000e+00, 3.8623e+01, 0.0000e+00, 0.0000e+00, 2.0000e+00,\n",
            "        1.1138e+04], dtype=torch.float64)\n",
            "Target: tensor([11138.1558], dtype=torch.float64)\n",
            "Prediction: tensor([11178.5444], dtype=torch.float64)\n"
          ],
          "name": "stdout"
        }
      ]
    },
    {
      "cell_type": "code",
      "metadata": {
        "id": "CTRCJiddILvh",
        "colab_type": "code",
        "colab": {
          "base_uri": "https://localhost:8080/",
          "height": 88
        },
        "outputId": "e47b8431-4c4c-4b3a-de6e-78d09be7a6fc"
      },
      "source": [
        "input, target = val_ds[23]\n",
        "predict_single(input, target, model)"
      ],
      "execution_count": 65,
      "outputs": [
        {
          "output_type": "stream",
          "text": [
            "Input: tensor([2.5000e+01, 1.0000e+00, 2.9891e+01, 0.0000e+00, 0.0000e+00, 0.0000e+00,\n",
            "        2.6397e+03], dtype=torch.float64)\n",
            "Target: tensor([2639.6812], dtype=torch.float64)\n",
            "Prediction: tensor([2610.2434], dtype=torch.float64)\n"
          ],
          "name": "stdout"
        }
      ]
    },
    {
      "cell_type": "markdown",
      "metadata": {
        "id": "HuRGHFyjILvk",
        "colab_type": "text"
      },
      "source": [
        "Are you happy with your model's predictions? Try to improve them further."
      ]
    },
    {
      "cell_type": "markdown",
      "metadata": {
        "id": "51nqWqQEILvk",
        "colab_type": "text"
      },
      "source": [
        "## (Optional) Step 6: Try another dataset & blog about it\n",
        "\n",
        "While this last step is optional for the submission of your assignment, we highly recommend that you do it. Try to clean up & replicate this notebook (or [this one](https://jovian.ml/aakashns/housing-linear-minimal), or [this one](https://jovian.ml/aakashns/mnist-logistic-minimal) ) for a different linear regression or logistic regression problem. This will help solidify your understanding, and give you a chance to differentiate the generic patters in machine learning from problem-specific details.\n",
        "\n",
        "Here are some sources to find good datasets:\n",
        "\n",
        "- https://lionbridge.ai/datasets/10-open-datasets-for-linear-regression/\n",
        "- https://www.kaggle.com/rtatman/datasets-for-regression-analysis\n",
        "- https://archive.ics.uci.edu/ml/datasets.php?format=&task=reg&att=&area=&numAtt=&numIns=&type=&sort=nameUp&view=table\n",
        "- https://people.sc.fsu.edu/~jburkardt/datasets/regression/regression.html\n",
        "- https://archive.ics.uci.edu/ml/datasets/wine+quality\n",
        "- https://pytorch.org/docs/stable/torchvision/datasets.html\n",
        "\n",
        "We also recommend that you write a blog about your approach to the problem. Here is a suggested structure for your post (feel free to experiment with it):\n",
        "\n",
        "- Interesting title & subtitle\n",
        "- Overview of what the blog covers (which dataset, linear regression or logistic regression, intro to PyTorch)\n",
        "- Downloading & exploring the data\n",
        "- Preparing the data for training\n",
        "- Creating a model using PyTorch\n",
        "- Training the model to fit the data\n",
        "- Your thoughts on how to experiment with different hyperparmeters to reduce loss\n",
        "- Making predictions using the model\n",
        "\n",
        "As with the previous assignment, you can [embed Juptyer notebook cells & outputs from Jovian](https://medium.com/jovianml/share-and-embed-jupyter-notebooks-online-with-jovian-ml-df709a03064e) into your blog. \n",
        "\n",
        "Don't forget to share your work on the forum: https://jovian.ml/forum/t/share-your-work-here-assignment-2/4931"
      ]
    },
    {
      "cell_type": "code",
      "metadata": {
        "id": "L2BKn5uxILvl",
        "colab_type": "code",
        "outputId": "912e592f-1e15-4d8d-f711-becf77af2d68",
        "colab": {}
      },
      "source": [
        "jovian.commit(project=project_name, environment=None)\n",
        "jovian.commit(project=project_name, environment=None) # try again, kaggle fails sometimes"
      ],
      "execution_count": 0,
      "outputs": [
        {
          "output_type": "display_data",
          "data": {
            "application/javascript": [
              "window.require && require([\"base/js/namespace\"],function(Jupyter){Jupyter.notebook.save_checkpoint()})"
            ],
            "text/plain": [
              "<IPython.core.display.Javascript object>"
            ]
          },
          "metadata": {
            "tags": []
          }
        },
        {
          "output_type": "stream",
          "text": [
            "[jovian] Attempting to save notebook..\u001b[0m\n",
            "[jovian] Please enter your API key ( from https://jovian.ml/ ):\u001b[0m\n",
            "API KEY: ········\n",
            "[jovian] Creating a new project \"aakashns/02-insurance-linear-regression\"\u001b[0m\n",
            "[jovian] Uploading notebook..\u001b[0m\n",
            "[jovian] Committed successfully! https://jovian.ml/aakashns/02-insurance-linear-regression\u001b[0m\n"
          ],
          "name": "stdout"
        },
        {
          "output_type": "display_data",
          "data": {
            "application/javascript": [
              "window.require && require([\"base/js/namespace\"],function(Jupyter){Jupyter.notebook.save_checkpoint()})"
            ],
            "text/plain": [
              "<IPython.core.display.Javascript object>"
            ]
          },
          "metadata": {
            "tags": []
          }
        }
      ]
    },
    {
      "cell_type": "code",
      "metadata": {
        "id": "_MPpztiFILvp",
        "colab_type": "code",
        "colab": {}
      },
      "source": [
        ""
      ],
      "execution_count": 0,
      "outputs": []
    }
  ]
}