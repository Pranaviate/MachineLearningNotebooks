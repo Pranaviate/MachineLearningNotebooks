{
  "nbformat": 4,
  "nbformat_minor": 0,
  "metadata": {
    "colab": {
      "name": "PyTor-Assgn1-NewFns-.ipynb",
      "provenance": [],
      "authorship_tag": "ABX9TyPFL8Iy3BN5zA10MRpG5LR5",
      "include_colab_link": true
    },
    "kernelspec": {
      "name": "python3",
      "display_name": "Python 3"
    }
  },
  "cells": [
    {
      "cell_type": "markdown",
      "metadata": {
        "id": "view-in-github",
        "colab_type": "text"
      },
      "source": [
        "<a href=\"https://colab.research.google.com/github/Pranaviate/MachineLearningNotebooks/blob/master/PyTor_Assgn1_NewFns_.ipynb\" target=\"_parent\"><img src=\"https://colab.research.google.com/assets/colab-badge.svg\" alt=\"Open In Colab\"/></a>"
      ]
    },
    {
      "cell_type": "markdown",
      "metadata": {
        "id": "pt-aPi_qWuSl",
        "colab_type": "text"
      },
      "source": [
        "#PYTORCH ASSIGNMENT-1: TRYING OUT NEW FUNCTONS"
      ]
    },
    {
      "cell_type": "markdown",
      "metadata": {
        "id": "qaEBtP4AXCVI",
        "colab_type": "text"
      },
      "source": [
        "*firstly importing torch*"
      ]
    },
    {
      "cell_type": "code",
      "metadata": {
        "id": "Yq75eSHMWS2N",
        "colab_type": "code",
        "colab": {}
      },
      "source": [
        "import torch"
      ],
      "execution_count": 0,
      "outputs": []
    },
    {
      "cell_type": "markdown",
      "metadata": {
        "id": "J7HCaDiiXKEh",
        "colab_type": "text"
      },
      "source": [
        "Function 1:\n",
        ">torch.linspace\n",
        ">>Creates a torch 1D equally spaced tensor from `start` to `end`\n",
        ">>>torch.linspace(`start`,`end`)\n",
        "\n",
        "\n",
        "\n",
        "\n",
        ">>default is: 100 steps\n",
        "\n",
        "\n",
        "\n"
      ]
    },
    {
      "cell_type": "code",
      "metadata": {
        "id": "BqHGcQBXWnoI",
        "colab_type": "code",
        "outputId": "9c6ab239-7fef-44bb-d556-f766b2820263",
        "colab": {
          "base_uri": "https://localhost:8080/",
          "height": 235
        }
      },
      "source": [
        "torch.linspace(1,10)"
      ],
      "execution_count": 0,
      "outputs": [
        {
          "output_type": "execute_result",
          "data": {
            "text/plain": [
              "tensor([ 1.0000,  1.0909,  1.1818,  1.2727,  1.3636,  1.4545,  1.5455,  1.6364,\n",
              "         1.7273,  1.8182,  1.9091,  2.0000,  2.0909,  2.1818,  2.2727,  2.3636,\n",
              "         2.4545,  2.5455,  2.6364,  2.7273,  2.8182,  2.9091,  3.0000,  3.0909,\n",
              "         3.1818,  3.2727,  3.3636,  3.4545,  3.5455,  3.6364,  3.7273,  3.8182,\n",
              "         3.9091,  4.0000,  4.0909,  4.1818,  4.2727,  4.3636,  4.4545,  4.5455,\n",
              "         4.6364,  4.7273,  4.8182,  4.9091,  5.0000,  5.0909,  5.1818,  5.2727,\n",
              "         5.3636,  5.4545,  5.5455,  5.6364,  5.7273,  5.8182,  5.9091,  6.0000,\n",
              "         6.0909,  6.1818,  6.2727,  6.3636,  6.4545,  6.5455,  6.6364,  6.7273,\n",
              "         6.8182,  6.9091,  7.0000,  7.0909,  7.1818,  7.2727,  7.3636,  7.4545,\n",
              "         7.5455,  7.6364,  7.7273,  7.8182,  7.9091,  8.0000,  8.0909,  8.1818,\n",
              "         8.2727,  8.3636,  8.4545,  8.5455,  8.6364,  8.7273,  8.8182,  8.9091,\n",
              "         9.0000,  9.0909,  9.1818,  9.2727,  9.3636,  9.4545,  9.5455,  9.6364,\n",
              "         9.7273,  9.8182,  9.9091, 10.0000])"
            ]
          },
          "metadata": {
            "tags": []
          },
          "execution_count": 2
        }
      ]
    },
    {
      "cell_type": "code",
      "metadata": {
        "id": "oFB4AgaUYyxL",
        "colab_type": "code",
        "outputId": "ba8fe433-55d2-45a3-cc25-5edb727e9914",
        "colab": {
          "base_uri": "https://localhost:8080/",
          "height": 67
        }
      },
      "source": [
        "torch.linspace(1,10,19)"
      ],
      "execution_count": 0,
      "outputs": [
        {
          "output_type": "execute_result",
          "data": {
            "text/plain": [
              "tensor([ 1.0000,  1.5000,  2.0000,  2.5000,  3.0000,  3.5000,  4.0000,  4.5000,\n",
              "         5.0000,  5.5000,  6.0000,  6.5000,  7.0000,  7.5000,  8.0000,  8.5000,\n",
              "         9.0000,  9.5000, 10.0000])"
            ]
          },
          "metadata": {
            "tags": []
          },
          "execution_count": 5
        }
      ]
    },
    {
      "cell_type": "markdown",
      "metadata": {
        "id": "yQZCvVCTZXFp",
        "colab_type": "text"
      },
      "source": [
        "Function 2:\n",
        ">torch.eye\n",
        ">>Creates a torch 2D tensor with zero diagonals \n",
        ">>1.   `n` as number of rows\n",
        ">>2.   `m` as number of columns\n",
        ">>>torch.eye(`n`,`m`)\n",
        "\n",
        "\n",
        "\n",
        ">>if only `m` is defined then it creates a square 2D tensor of `m * m `\n"
      ]
    },
    {
      "cell_type": "code",
      "metadata": {
        "id": "HiRbdaPEY-KY",
        "colab_type": "code",
        "outputId": "1ec7c314-389f-4e4f-83d9-b5fa4679fb73",
        "colab": {
          "base_uri": "https://localhost:8080/",
          "height": 101
        }
      },
      "source": [
        "torch.eye(5,9)"
      ],
      "execution_count": 0,
      "outputs": [
        {
          "output_type": "execute_result",
          "data": {
            "text/plain": [
              "tensor([[1., 0., 0., 0., 0., 0., 0., 0., 0.],\n",
              "        [0., 1., 0., 0., 0., 0., 0., 0., 0.],\n",
              "        [0., 0., 1., 0., 0., 0., 0., 0., 0.],\n",
              "        [0., 0., 0., 1., 0., 0., 0., 0., 0.],\n",
              "        [0., 0., 0., 0., 1., 0., 0., 0., 0.]])"
            ]
          },
          "metadata": {
            "tags": []
          },
          "execution_count": 7
        }
      ]
    },
    {
      "cell_type": "code",
      "metadata": {
        "id": "rOhDE6N1a2-_",
        "colab_type": "code",
        "outputId": "702a2916-c414-420d-99b2-c68fce7bd772",
        "colab": {
          "base_uri": "https://localhost:8080/",
          "height": 101
        }
      },
      "source": [
        "torch.eye(5,5)"
      ],
      "execution_count": 0,
      "outputs": [
        {
          "output_type": "execute_result",
          "data": {
            "text/plain": [
              "tensor([[1., 0., 0., 0., 0.],\n",
              "        [0., 1., 0., 0., 0.],\n",
              "        [0., 0., 1., 0., 0.],\n",
              "        [0., 0., 0., 1., 0.],\n",
              "        [0., 0., 0., 0., 1.]])"
            ]
          },
          "metadata": {
            "tags": []
          },
          "execution_count": 8
        }
      ]
    },
    {
      "cell_type": "markdown",
      "metadata": {
        "id": "nt8v-hlya_hN",
        "colab_type": "text"
      },
      "source": [
        "Function 3:\n",
        ">torch.full\n",
        ">> returns a tensor of `size` with values filled with `fill_value`\n",
        ">>>torch.full(`size=(x,x)`,`fill_value=x`)\n",
        "\n",
        "\n",
        "\n",
        ">>size can be 'list' or a 'tuple'"
      ]
    },
    {
      "cell_type": "code",
      "metadata": {
        "id": "CnGEHzhia8JR",
        "colab_type": "code",
        "outputId": "bf72d8da-f48a-441e-9f56-32a727ef946b",
        "colab": {
          "base_uri": "https://localhost:8080/",
          "height": 138
        }
      },
      "source": [
        "torch.full(size=(5,3),fill_value=8)"
      ],
      "execution_count": 0,
      "outputs": [
        {
          "output_type": "stream",
          "text": [
            "/pytorch/aten/src/ATen/native/TensorFactories.cpp:361: UserWarning: Deprecation warning: In a future PyTorch release torch.full will no longer return tensors of floating dtype by default. Instead, a bool fill_value will return a tensor of torch.bool dtype, and an integral fill_value will return a tensor of torch.long dtype. Set the optional `dtype` or `out` arguments to suppress this warning.\n"
          ],
          "name": "stderr"
        },
        {
          "output_type": "execute_result",
          "data": {
            "text/plain": [
              "tensor([[8., 8., 8.],\n",
              "        [8., 8., 8.],\n",
              "        [8., 8., 8.],\n",
              "        [8., 8., 8.],\n",
              "        [8., 8., 8.]])"
            ]
          },
          "metadata": {
            "tags": []
          },
          "execution_count": 10
        }
      ]
    },
    {
      "cell_type": "code",
      "metadata": {
        "id": "v-CpX6pwcEgm",
        "colab_type": "code",
        "outputId": "5fae2019-f80a-4307-a590-62a2de2517be",
        "colab": {
          "base_uri": "https://localhost:8080/",
          "height": 101
        }
      },
      "source": [
        "torch.full(size=(5,3),fill_value=8, dtype=float)"
      ],
      "execution_count": 0,
      "outputs": [
        {
          "output_type": "execute_result",
          "data": {
            "text/plain": [
              "tensor([[8., 8., 8.],\n",
              "        [8., 8., 8.],\n",
              "        [8., 8., 8.],\n",
              "        [8., 8., 8.],\n",
              "        [8., 8., 8.]], dtype=torch.float64)"
            ]
          },
          "metadata": {
            "tags": []
          },
          "execution_count": 12
        }
      ]
    },
    {
      "cell_type": "code",
      "metadata": {
        "id": "o9PTDQD4cdiY",
        "colab_type": "code",
        "outputId": "ede30cfd-7380-403a-e22e-eed7ff1e295d",
        "colab": {
          "base_uri": "https://localhost:8080/",
          "height": 101
        }
      },
      "source": [
        "torch.full((5,4),7)"
      ],
      "execution_count": 0,
      "outputs": [
        {
          "output_type": "execute_result",
          "data": {
            "text/plain": [
              "tensor([[7., 7., 7., 7.],\n",
              "        [7., 7., 7., 7.],\n",
              "        [7., 7., 7., 7.],\n",
              "        [7., 7., 7., 7.],\n",
              "        [7., 7., 7., 7.]])"
            ]
          },
          "metadata": {
            "tags": []
          },
          "execution_count": 16
        }
      ]
    },
    {
      "cell_type": "code",
      "metadata": {
        "id": "UefFrZBRi5zF",
        "colab_type": "code",
        "outputId": "f26951fa-d743-45ce-9ca6-09ac1c46333f",
        "colab": {
          "base_uri": "https://localhost:8080/",
          "height": 195
        }
      },
      "source": [
        "torch.full((5,4),7,float)"
      ],
      "execution_count": 0,
      "outputs": [
        {
          "output_type": "error",
          "ename": "TypeError",
          "evalue": "ignored",
          "traceback": [
            "\u001b[0;31m---------------------------------------------------------------------------\u001b[0m",
            "\u001b[0;31mTypeError\u001b[0m                                 Traceback (most recent call last)",
            "\u001b[0;32m<ipython-input-18-05cc8f2518de>\u001b[0m in \u001b[0;36m<module>\u001b[0;34m()\u001b[0m\n\u001b[0;32m----> 1\u001b[0;31m \u001b[0mtorch\u001b[0m\u001b[0;34m.\u001b[0m\u001b[0mfull\u001b[0m\u001b[0;34m(\u001b[0m\u001b[0;34m(\u001b[0m\u001b[0;36m5\u001b[0m\u001b[0;34m,\u001b[0m\u001b[0;36m4\u001b[0m\u001b[0;34m)\u001b[0m\u001b[0;34m,\u001b[0m\u001b[0;36m7\u001b[0m\u001b[0;34m,\u001b[0m\u001b[0mfloat\u001b[0m\u001b[0;34m)\u001b[0m\u001b[0;34m\u001b[0m\u001b[0;34m\u001b[0m\u001b[0m\n\u001b[0m",
            "\u001b[0;31mTypeError\u001b[0m: full() received an invalid combination of arguments - got (tuple, int, type), but expected one of:\n * (tuple of ints size, Number fill_value, *, Tensor out, torch.dtype dtype, torch.layout layout, torch.device device, bool pin_memory, bool requires_grad)\n * (tuple of ints size, Number fill_value, *, tuple of names names, torch.dtype dtype, torch.layout layout, torch.device device, bool pin_memory, bool requires_grad)\n"
          ]
        }
      ]
    },
    {
      "cell_type": "markdown",
      "metadata": {
        "id": "o8yPWQ3ijCg8",
        "colab_type": "text"
      },
      "source": [
        "The above argument works as `torch.full((5,4),7)` but shows an error when float is added for dtype property in the form `torch.full((5,4),7,float)`, this is because when we do not mention the properties by explicitly declaring them \n",
        "eg- 'size=5' then the function follows the default argument lineup for the functions\n",
        "\n",
        "> The default arguments were in right order till the 'fill_value' but had other arguments in line than the dtype argument next\n",
        "\n",
        "\n",
        "\n",
        "\n",
        "Hence the error\n",
        ">A corrective solution is given below\n"
      ]
    },
    {
      "cell_type": "code",
      "metadata": {
        "id": "XqFG11xZikDP",
        "colab_type": "code",
        "outputId": "ec26e9c3-9f39-46b5-8172-10dcf44f1c64",
        "colab": {
          "base_uri": "https://localhost:8080/",
          "height": 101
        }
      },
      "source": [
        "torch.full((5,4),7,dtype=float)"
      ],
      "execution_count": 0,
      "outputs": [
        {
          "output_type": "execute_result",
          "data": {
            "text/plain": [
              "tensor([[7., 7., 7., 7.],\n",
              "        [7., 7., 7., 7.],\n",
              "        [7., 7., 7., 7.],\n",
              "        [7., 7., 7., 7.],\n",
              "        [7., 7., 7., 7.]], dtype=torch.float64)"
            ]
          },
          "metadata": {
            "tags": []
          },
          "execution_count": 15
        }
      ]
    },
    {
      "cell_type": "markdown",
      "metadata": {
        "id": "eBWm3jkjk2yE",
        "colab_type": "text"
      },
      "source": [
        "Function 4:\n",
        ">torch.cat\n",
        ">> concatenates 2 or more tensors into one tensor\n",
        ">>>here `a` and `b ` are tensors to be joined, \n",
        ">>>`torch.cat((a,b))`\n",
        "\n",
        "\n",
        "\n",
        "\n",
        ">>Default Dimension  is= 0"
      ]
    },
    {
      "cell_type": "code",
      "metadata": {
        "id": "3jxqutI4itFw",
        "colab_type": "code",
        "outputId": "ba616887-5138-4ec2-f300-79e8ba6a5597",
        "colab": {
          "base_uri": "https://localhost:8080/",
          "height": 84
        }
      },
      "source": [
        "a=torch.tensor([[2,3,4,5],[7,5,3,2]])\n",
        "b=torch.tensor([[5,6,8,9],[5,0,3,4]])\n",
        "torch.cat((a,b))"
      ],
      "execution_count": 0,
      "outputs": [
        {
          "output_type": "execute_result",
          "data": {
            "text/plain": [
              "tensor([[2, 3, 4, 5],\n",
              "        [7, 5, 3, 2],\n",
              "        [5, 6, 8, 9],\n",
              "        [5, 0, 3, 4]])"
            ]
          },
          "metadata": {
            "tags": []
          },
          "execution_count": 19
        }
      ]
    },
    {
      "cell_type": "code",
      "metadata": {
        "id": "Qmu8QehEm6CV",
        "colab_type": "code",
        "outputId": "029f3af3-d2ba-4ae1-f8ac-d76225bdf7b5",
        "colab": {
          "base_uri": "https://localhost:8080/",
          "height": 50
        }
      },
      "source": [
        "torch.cat((a,b),dim=1)"
      ],
      "execution_count": 0,
      "outputs": [
        {
          "output_type": "execute_result",
          "data": {
            "text/plain": [
              "tensor([[2, 3, 4, 5, 5, 6, 8, 9],\n",
              "        [7, 5, 3, 2, 5, 0, 3, 4]])"
            ]
          },
          "metadata": {
            "tags": []
          },
          "execution_count": 21
        }
      ]
    },
    {
      "cell_type": "code",
      "metadata": {
        "id": "Jj1Wd_-QnQVa",
        "colab_type": "code",
        "outputId": "11580ee8-d283-40cc-8c86-8c17dfec20fd",
        "colab": {
          "base_uri": "https://localhost:8080/",
          "height": 162
        }
      },
      "source": [
        "torch.cat((a,b),dim=2)"
      ],
      "execution_count": 0,
      "outputs": [
        {
          "output_type": "error",
          "ename": "IndexError",
          "evalue": "ignored",
          "traceback": [
            "\u001b[0;31m---------------------------------------------------------------------------\u001b[0m",
            "\u001b[0;31mIndexError\u001b[0m                                Traceback (most recent call last)",
            "\u001b[0;32m<ipython-input-22-1fd2933331e1>\u001b[0m in \u001b[0;36m<module>\u001b[0;34m()\u001b[0m\n\u001b[0;32m----> 1\u001b[0;31m \u001b[0mtorch\u001b[0m\u001b[0;34m.\u001b[0m\u001b[0mcat\u001b[0m\u001b[0;34m(\u001b[0m\u001b[0;34m(\u001b[0m\u001b[0ma\u001b[0m\u001b[0;34m,\u001b[0m\u001b[0mb\u001b[0m\u001b[0;34m)\u001b[0m\u001b[0;34m,\u001b[0m\u001b[0mdim\u001b[0m\u001b[0;34m=\u001b[0m\u001b[0;36m2\u001b[0m\u001b[0;34m)\u001b[0m\u001b[0;34m\u001b[0m\u001b[0;34m\u001b[0m\u001b[0m\n\u001b[0m",
            "\u001b[0;31mIndexError\u001b[0m: Dimension out of range (expected to be in range of [-2, 1], but got 2)"
          ]
        }
      ]
    },
    {
      "cell_type": "markdown",
      "metadata": {
        "id": "zznYQWHen_s1",
        "colab_type": "text"
      },
      "source": [
        "Here we see an error because the dimension should be either equal or less than the given tensor dimensions"
      ]
    },
    {
      "cell_type": "code",
      "metadata": {
        "id": "P5amOMj_n52x",
        "colab_type": "code",
        "outputId": "4e8912ec-e772-454f-cf3c-bee01652d1a9",
        "colab": {
          "base_uri": "https://localhost:8080/",
          "height": 50
        }
      },
      "source": [
        "torch.cat((a,b),dim=-1)"
      ],
      "execution_count": 0,
      "outputs": [
        {
          "output_type": "execute_result",
          "data": {
            "text/plain": [
              "tensor([[2, 3, 4, 5, 5, 6, 8, 9],\n",
              "        [7, 5, 3, 2, 5, 0, 3, 4]])"
            ]
          },
          "metadata": {
            "tags": []
          },
          "execution_count": 23
        }
      ]
    },
    {
      "cell_type": "code",
      "metadata": {
        "id": "_yF1Nemno_Db",
        "colab_type": "code",
        "outputId": "06aac509-bcef-44eb-d215-74a02fc2d4cd",
        "colab": {
          "base_uri": "https://localhost:8080/",
          "height": 84
        }
      },
      "source": [
        "torch.cat((a,b),dim=0)"
      ],
      "execution_count": 0,
      "outputs": [
        {
          "output_type": "execute_result",
          "data": {
            "text/plain": [
              "tensor([[2, 3, 4, 5],\n",
              "        [7, 5, 3, 2],\n",
              "        [5, 6, 8, 9],\n",
              "        [5, 0, 3, 4]])"
            ]
          },
          "metadata": {
            "tags": []
          },
          "execution_count": 24
        }
      ]
    },
    {
      "cell_type": "markdown",
      "metadata": {
        "id": "XkFICt9Mpg-Y",
        "colab_type": "text"
      },
      "source": [
        "Function 5:\n",
        ">torch.take\n",
        ">>it returns a tensor with elements of input tensor at the given indices, here `input_tensor` is the tensor to be worked on and `torch.tensor([indices])` is the format for output tensor with given indices values\n",
        ">>> torch.take(`input_tensor,torch.tensor([indices])`)"
      ]
    },
    {
      "cell_type": "code",
      "metadata": {
        "id": "7CVuOdpGpKQa",
        "colab_type": "code",
        "outputId": "ac9cbbb1-60bc-486a-858d-b3b64589bb0f",
        "colab": {
          "base_uri": "https://localhost:8080/",
          "height": 34
        }
      },
      "source": [
        "torch.take(a,torch.tensor([2]))"
      ],
      "execution_count": 0,
      "outputs": [
        {
          "output_type": "execute_result",
          "data": {
            "text/plain": [
              "tensor([4])"
            ]
          },
          "metadata": {
            "tags": []
          },
          "execution_count": 27
        }
      ]
    },
    {
      "cell_type": "code",
      "metadata": {
        "id": "rVk78cmuv46v",
        "colab_type": "code",
        "outputId": "059dded7-e798-448f-a8b0-5ae512d4d836",
        "colab": {
          "base_uri": "https://localhost:8080/",
          "height": 34
        }
      },
      "source": [
        "torch.take(a,torch.tensor([2,3]))"
      ],
      "execution_count": 0,
      "outputs": [
        {
          "output_type": "execute_result",
          "data": {
            "text/plain": [
              "tensor([4, 5])"
            ]
          },
          "metadata": {
            "tags": []
          },
          "execution_count": 28
        }
      ]
    },
    {
      "cell_type": "code",
      "metadata": {
        "id": "UP1zc2u3wFuW",
        "colab_type": "code",
        "outputId": "2bef6520-1851-42b9-88c9-d91f400507b4",
        "colab": {
          "base_uri": "https://localhost:8080/",
          "height": 34
        }
      },
      "source": [
        "torch.take(a,torch.tensor([2,6]))"
      ],
      "execution_count": 0,
      "outputs": [
        {
          "output_type": "execute_result",
          "data": {
            "text/plain": [
              "tensor([4, 3])"
            ]
          },
          "metadata": {
            "tags": []
          },
          "execution_count": 40
        }
      ]
    },
    {
      "cell_type": "markdown",
      "metadata": {
        "id": "Kgz_pEBlxYCd",
        "colab_type": "text"
      },
      "source": [
        "Here the indices number is counted line wise and not in the form of matrice format\n",
        "> hence for a 3*3 matrix a value a `(2,2)` will be counted `5` in indices"
      ]
    }
  ]
}