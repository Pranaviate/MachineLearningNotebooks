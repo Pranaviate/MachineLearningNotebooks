{
  "nbformat": 4,
  "nbformat_minor": 0,
  "metadata": {
    "colab": {
      "name": "BaseCode-ImageRecog-hand/td.ipynb",
      "provenance": [],
      "include_colab_link": true
    },
    "kernelspec": {
      "name": "python3",
      "display_name": "Python 3"
    }
  },
  "cells": [
    {
      "cell_type": "markdown",
      "metadata": {
        "id": "view-in-github",
        "colab_type": "text"
      },
      "source": [
        "<a href=\"https://colab.research.google.com/github/Pranaviate/MachineLearningNotebooks/blob/master/BaseCode_ImageRecog_hand_td.ipynb\" target=\"_parent\"><img src=\"https://colab.research.google.com/assets/colab-badge.svg\" alt=\"Open In Colab\"/></a>"
      ]
    },
    {
      "cell_type": "code",
      "metadata": {
        "id": "q5Kj4cjyUVix",
        "colab_type": "code",
        "colab": {
          "base_uri": "https://localhost:8080/",
          "height": 122
        },
        "outputId": "b8cd6cf4-bd71-4e0d-d764-6f47ef69fcdb"
      },
      "source": [
        "from google.colab import drive\n",
        "drive.mount('/content/drive')"
      ],
      "execution_count": null,
      "outputs": [
        {
          "output_type": "stream",
          "text": [
            "Go to this URL in a browser: https://accounts.google.com/o/oauth2/auth?client_id=947318989803-6bn6qk8qdgf4n4g3pfee6491hc0brc4i.apps.googleusercontent.com&redirect_uri=urn%3aietf%3awg%3aoauth%3a2.0%3aoob&scope=email%20https%3a%2f%2fwww.googleapis.com%2fauth%2fdocs.test%20https%3a%2f%2fwww.googleapis.com%2fauth%2fdrive%20https%3a%2f%2fwww.googleapis.com%2fauth%2fdrive.photos.readonly%20https%3a%2f%2fwww.googleapis.com%2fauth%2fpeopleapi.readonly&response_type=code\n",
            "\n",
            "Enter your authorization code:\n",
            "4/3wEEJDK6k02wuhty-rOYzkzzrdJrmUIYJQgxbqtL1IC68PPyA23FtWY\n",
            "Mounted at /content/drive\n"
          ],
          "name": "stdout"
        }
      ]
    },
    {
      "cell_type": "code",
      "metadata": {
        "id": "PTv-xfg3Uf-e",
        "colab_type": "code",
        "colab": {}
      },
      "source": [
        "import  tensorflow  as  tf\n",
        "import  numpy  as  np\n",
        "from  tensorflow . keras . datasets  import  mnist\n",
        "import  pandas  as  pd\n",
        "import  cv2\n",
        "import  matplotlib . pyplot  as  plt\n",
        "import  os\n",
        "from  tensorflow . keras  import  models , layers , optimizers\n",
        "from  keras . models  import  Model\n",
        "from  tensorflow . keras . applications  import  VGG16\n",
        "from  keras . applications . vgg16  import  preprocess_input , decode_predictions\n",
        "from  tensorflow . keras . preprocessing . image  import  ImageDataGenerator , array_to_img , img_to_array , load_img\n",
        "import  random"
      ],
      "execution_count": null,
      "outputs": []
    },
    {
      "cell_type": "code",
      "metadata": {
        "id": "QjqKtzV1UwoP",
        "colab_type": "code",
        "colab": {}
      },
      "source": [
        "datagen  =  ImageDataGenerator (\n",
        "        rotation_range = 5 ,\n",
        "        width_shift_range = 0.2 ,\n",
        "        height_shift_range = 0.2 ,\n",
        "        shear_range = 0.2 ,\n",
        "        zoom_range = 0.2 ,\n",
        "        horizontal_flip = True ,\n",
        "        fill_mode = 'nearest' )"
      ],
      "execution_count": null,
      "outputs": []
    },
    {
      "cell_type": "code",
      "metadata": {
        "id": "SpeJfKclUz2A",
        "colab_type": "code",
        "colab": {}
      },
      "source": [
        "path  =  '/content/drive/My Drive/hgd/'\n",
        "for  folder  in  os . listdir ( path ):\n",
        "    path_  =  path  +  folder  +  '/'\n",
        "    # print (\"FOLDER\", folder)\n",
        "    for  file  in  os.listdir ( path_ ):\n",
        "        # print (file)\n",
        "        if  file . endswith ( '.jpeg' ) and  not  \"_gen\"  in  file :\n",
        "            \n",
        "            img  =  load_img ( path_ + file )\n",
        "            x  =  img_to_array ( img )  \n",
        "            x  =  x . reshape (( 1 ,) +  x . shape )\n",
        "\n",
        "            # the .flow () command below generates batches of randomly transformed images\n",
        "            # and saves the results to the `preview /` directory\n",
        "            i  =  0\n",
        "            for  batch  in  datagen.flow ( x , batch_size = 1 ,save_to_dir = '/content/drive/My Drive/hgd/' + folder , save_prefix = str ( folder ) + 'gen',save_format = 'jpeg' ):\n",
        "                i  +=  1\n",
        "                if  i  >  5 :\n",
        "                    break   # Generator stop feature"
      ],
      "execution_count": null,
      "outputs": []
    },
    {
      "cell_type": "code",
      "metadata": {
        "id": "hWW6wriAU7nY",
        "colab_type": "code",
        "colab": {}
      },
      "source": [
        "path  =  '/content/drive/My Drive/hgd/up'\n",
        "images  = []\n",
        "labels  = []\n",
        "images_color  = []\n",
        "\n",
        "for  file  in  os . listdir ( path ):\n",
        "    img  =  cv2 . imread ( path + '/' + file )    \n",
        "    gray  =  cv2 . cvtColor ( img , cv2 . COLOR_BGR2GRAY )    \n",
        "    resized  =  cv2 . resize ( gray , ( 100 , 100 ))\n",
        "    resized  =  np . append ( resized , 1 )\n",
        "    images . append ( resized )"
      ],
      "execution_count": null,
      "outputs": []
    },
    {
      "cell_type": "markdown",
      "metadata": {
        "id": "g8r1ACA1o67Z",
        "colab_type": "text"
      },
      "source": [
        ""
      ]
    },
    {
      "cell_type": "code",
      "metadata": {
        "id": "lwdDGtMRVZb1",
        "colab_type": "code",
        "colab": {}
      },
      "source": [
        "path2  =  path  =  '/content/drive/My Drive/hgd/down/'\n",
        "for  file  in  os . listdir ( path2 ):\n",
        "    img  =  cv2 . imread ( path2 + '/' + file )\n",
        "    gray  =  cv2 . cvtColor ( img , cv2 . COLOR_BGR2GRAY )    \n",
        "    resized  =  cv2 . resize ( gray , ( 100 , 100 ))\n",
        "    resized  =  np . append ( resized , 0 )\n",
        "    images . append ( resized )"
      ],
      "execution_count": null,
      "outputs": []
    },
    {
      "cell_type": "code",
      "metadata": {
        "id": "XQSSN7DIVq-7",
        "colab_type": "code",
        "colab": {}
      },
      "source": [
        "random . shuffle ( images )\n",
        "\n",
        "labels  =  np . asarray ([ image [ - 1 ] for  image  in  images ])\n",
        "images  =  np . asarray ([ image [ 0 : - 1 ]. reshape ( 100 , 100 , 1 ) for  image  in  images ])\n",
        "\n",
        "\n",
        "images  =  images . astype ( 'float32' )\n",
        "images   =   ( images ) /  255"
      ],
      "execution_count": null,
      "outputs": []
    },
    {
      "cell_type": "code",
      "metadata": {
        "id": "aN2QW3-PVyqQ",
        "colab_type": "code",
        "colab": {}
      },
      "source": [
        "index_split  =  round ( 0.8 * len ( images ))\n",
        "\n",
        "train_images  =  images [ 0 : index_split ]\n",
        "test_images  =  images [ index_split ::]\n",
        "train_labels  =  labels [ 0 : index_split ]\n",
        "test_labels  =  labels [ index_split ::]"
      ],
      "execution_count": null,
      "outputs": []
    },
    {
      "cell_type": "code",
      "metadata": {
        "id": "urr735muV1sI",
        "colab_type": "code",
        "colab": {}
      },
      "source": [
        "model  =  models . Sequential ()\n",
        "model . add ( layers . Conv2D ( 32 , ( 3 , 3 ), activation = 'relu' , input_shape = ( 100 , 100 , 1 )))\n",
        "model . add ( layers . MaxPooling2D (( 2 , 2 )))\n",
        "model . add ( layers . Conv2D ( 512 , ( 3 , 3 ), activation = 'relu' ))\n",
        "model . add ( layers . MaxPooling2D (( 2 , 2 )))\n",
        "model . add ( layers . Dropout ( 0.3 ))\n",
        "model . add ( layers . Conv2D ( 256 , ( 3 , 3 ), activation = 'relu' ))\n",
        "model . add ( layers . MaxPooling2D (( 2 , 2 )))\n",
        "model . add ( layers . Conv2D ( 512 , ( 3 , 3 ), activation = 'relu' ))\n",
        "model . add ( layers . MaxPooling2D (( 2 , 2 )))\n",
        "model . add ( layers . Dropout ( 0.3 ))\n",
        "model . add ( layers . Conv2D ( 256 , ( 3 , 3 ), activation = 'relu' ))\n",
        "model . add ( layers . MaxPooling2D (( 2 , 2 )))\n",
        "model . add ( layers . Flatten ())\n",
        "model . add ( layers . Dense ( 512 , activation = 'relu' ))\n",
        "model . add ( layers . Dense ( 1 , activation = 'sigmoid' ))"
      ],
      "execution_count": null,
      "outputs": []
    },
    {
      "cell_type": "code",
      "metadata": {
        "id": "pf1jEEsKV4F5",
        "colab_type": "code",
        "colab": {}
      },
      "source": [
        "model . compile ( loss = 'binary_crossentropy' ,\n",
        "              optimizer = \"adam\" ,\n",
        "              metrics = [ 'accuracy' ])"
      ],
      "execution_count": null,
      "outputs": []
    },
    {
      "cell_type": "code",
      "metadata": {
        "id": "YpfPP0v3V7FY",
        "colab_type": "code",
        "colab": {
          "base_uri": "https://localhost:8080/",
          "height": 717
        },
        "outputId": "848c3fa2-60b8-453b-d502-bdad1f986de6"
      },
      "source": [
        "history  =  model . fit ( train_images , train_labels , epochs = 20 , validation_data = ( test_images , test_labels ))"
      ],
      "execution_count": null,
      "outputs": [
        {
          "output_type": "stream",
          "text": [
            "Epoch 1/20\n",
            "6/6 [==============================] - 16s 3s/step - loss: 0.6978 - accuracy: 0.5893 - val_loss: 0.6892 - val_accuracy: 0.5476\n",
            "Epoch 2/20\n",
            "6/6 [==============================] - 16s 3s/step - loss: 0.6865 - accuracy: 0.5714 - val_loss: 0.6857 - val_accuracy: 0.5476\n",
            "Epoch 3/20\n",
            "6/6 [==============================] - 16s 3s/step - loss: 0.6895 - accuracy: 0.5714 - val_loss: 0.6907 - val_accuracy: 0.5476\n",
            "Epoch 4/20\n",
            "6/6 [==============================] - 16s 3s/step - loss: 0.6862 - accuracy: 0.5714 - val_loss: 0.6837 - val_accuracy: 0.5476\n",
            "Epoch 5/20\n",
            "6/6 [==============================] - 16s 3s/step - loss: 0.6799 - accuracy: 0.5714 - val_loss: 0.6774 - val_accuracy: 0.5476\n",
            "Epoch 6/20\n",
            "6/6 [==============================] - 16s 3s/step - loss: 0.6725 - accuracy: 0.5714 - val_loss: 0.6612 - val_accuracy: 0.5476\n",
            "Epoch 7/20\n",
            "6/6 [==============================] - 16s 3s/step - loss: 0.6739 - accuracy: 0.5595 - val_loss: 0.6516 - val_accuracy: 0.5476\n",
            "Epoch 8/20\n",
            "6/6 [==============================] - 16s 3s/step - loss: 0.6445 - accuracy: 0.5774 - val_loss: 0.6515 - val_accuracy: 0.5714\n",
            "Epoch 9/20\n",
            "6/6 [==============================] - 16s 3s/step - loss: 0.6285 - accuracy: 0.6667 - val_loss: 0.9589 - val_accuracy: 0.5238\n",
            "Epoch 10/20\n",
            "6/6 [==============================] - 16s 3s/step - loss: 0.7369 - accuracy: 0.5357 - val_loss: 0.6734 - val_accuracy: 0.5476\n",
            "Epoch 11/20\n",
            "6/6 [==============================] - 16s 3s/step - loss: 0.6591 - accuracy: 0.5714 - val_loss: 0.6299 - val_accuracy: 0.5476\n",
            "Epoch 12/20\n",
            "6/6 [==============================] - 16s 3s/step - loss: 0.6438 - accuracy: 0.5714 - val_loss: 0.6855 - val_accuracy: 0.5476\n",
            "Epoch 13/20\n",
            "6/6 [==============================] - 16s 3s/step - loss: 0.6885 - accuracy: 0.5714 - val_loss: 0.6803 - val_accuracy: 0.5476\n",
            "Epoch 14/20\n",
            "6/6 [==============================] - 16s 3s/step - loss: 0.6661 - accuracy: 0.5714 - val_loss: 0.6669 - val_accuracy: 0.5476\n",
            "Epoch 15/20\n",
            "6/6 [==============================] - 16s 3s/step - loss: 0.6690 - accuracy: 0.5714 - val_loss: 0.6133 - val_accuracy: 0.5476\n",
            "Epoch 16/20\n",
            "6/6 [==============================] - 16s 3s/step - loss: 0.6136 - accuracy: 0.5714 - val_loss: 0.6364 - val_accuracy: 0.5476\n",
            "Epoch 17/20\n",
            "6/6 [==============================] - 16s 3s/step - loss: 0.6088 - accuracy: 0.6488 - val_loss: 0.5759 - val_accuracy: 0.5952\n",
            "Epoch 18/20\n",
            "6/6 [==============================] - 16s 3s/step - loss: 0.5750 - accuracy: 0.6905 - val_loss: 0.5412 - val_accuracy: 0.7381\n",
            "Epoch 19/20\n",
            "6/6 [==============================] - 16s 3s/step - loss: 0.5392 - accuracy: 0.7500 - val_loss: 0.5717 - val_accuracy: 0.6429\n",
            "Epoch 20/20\n",
            "6/6 [==============================] - 16s 3s/step - loss: 0.4912 - accuracy: 0.7560 - val_loss: 0.5696 - val_accuracy: 0.6667\n"
          ],
          "name": "stdout"
        }
      ]
    },
    {
      "cell_type": "code",
      "metadata": {
        "id": "WCaExKZlXUbW",
        "colab_type": "code",
        "colab": {
          "base_uri": "https://localhost:8080/",
          "height": 295
        },
        "outputId": "696bf09c-bd91-4b75-8c15-c94c05f9305e"
      },
      "source": [
        "acc  =  history . history [ 'accuracy' ]\n",
        "val_acc  =  history . history [ 'val_accuracy' ]\n",
        "epochs  =  range ( 1 , len ( acc ) +  1 )\n",
        "\n",
        "plt . plot ( epochs , acc , 'bo' , label = 'Training acc' )\n",
        "plt . plot ( epochs , val_acc , 'b' , label = 'Validation acc' )\n",
        "plt . title ( 'Training and validation accuracy' )\n",
        "plt . xlabel ( 'Epochs' )\n",
        "plt . ylabel ( 'accuracy' )\n",
        "plt . legend ()\n",
        "plt . show ()\n"
      ],
      "execution_count": null,
      "outputs": [
        {
          "output_type": "display_data",
          "data": {
            "image/png": "[encoded data removed]",
            "text/plain": [
              "<Figure size 432x288 with 1 Axes>"
            ]
          },
          "metadata": {
            "tags": [],
            "needs_background": "light"
          }
        }
      ]
    },
    {
      "cell_type": "markdown",
      "metadata": {
        "id": "HcJzolXFqEzL",
        "colab_type": "text"
      },
      "source": [
        ""
      ]
    },
    {
      "cell_type": "code",
      "metadata": {
        "id": "aCnRBxQVXqgB",
        "colab_type": "code",
        "colab": {
          "base_uri": "https://localhost:8080/",
          "height": 34
        },
        "outputId": "c8320f86-4bfc-48ce-bd33-1ace17aca307"
      },
      "source": [
        "model . save ( './model1_test' )"
      ],
      "execution_count": null,
      "outputs": [
        {
          "output_type": "stream",
          "text": [
            "INFO:tensorflow:Assets written to: ./model1_test/assets\n"
          ],
          "name": "stdout"
        }
      ]
    },
    {
      "cell_type": "code",
      "metadata": {
        "id": "g01rW-PzXwfH",
        "colab_type": "code",
        "colab": {}
      },
      "source": [
        "from tensorflow import keras"
      ],
      "execution_count": null,
      "outputs": []
    },
    {
      "cell_type": "code",
      "metadata": {
        "id": "ybECGB6RXzm8",
        "colab_type": "code",
        "colab": {}
      },
      "source": [
        "model = keras.models.load_model('/content/model_test')"
      ],
      "execution_count": null,
      "outputs": []
    },
    {
      "cell_type": "code",
      "metadata": {
        "id": "7BYmdTlhX0Zp",
        "colab_type": "code",
        "colab": {
          "base_uri": "https://localhost:8080/",
          "height": 51
        },
        "outputId": "d66b2957-ca3b-4bad-da81-817233171ee6"
      },
      "source": [
        "img = cv2.imread('//content/drive/My Drive/images.jpeg')  \n",
        "#st.image(cv2.cvtColor(img, cv2.COLOR_BGR2RGB),width=200)  \n",
        "gray = cv2.cvtColor(img, cv2.COLOR_BGR2GRAY)    \n",
        "resized = cv2.resize(gray, (100, 100)).astype('float32')\n",
        "resized = resized.reshape(100,100,1)\n",
        "resized = np.expand_dims(resized, axis=0)\n",
        "test = resized/255\n",
        "\n",
        "result = model.predict_classes(test)\n",
        "print(result)\n",
        "if result == 1:\n",
        "            print( \"thumbs up!\")\n",
        "if result == 0:\n",
        "        \tprint( \"thumbs down!\")"
      ],
      "execution_count": null,
      "outputs": [
        {
          "output_type": "stream",
          "text": [
            "[[0]]\n",
            "thumbs down!\n"
          ],
          "name": "stdout"
        }
      ]
    }
  ]
}